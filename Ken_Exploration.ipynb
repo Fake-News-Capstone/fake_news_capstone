{
 "cells": [
  {
   "cell_type": "code",
   "execution_count": 7,
   "metadata": {
    "ExecuteTime": {
     "end_time": "2021-05-21T15:54:49.552569Z",
     "start_time": "2021-05-21T15:54:42.520917Z"
    }
   },
   "outputs": [],
   "source": [
    "import env\n",
    "import pandas as pd\n",
    "import numpy as np\n",
    "import utilities as utils\n",
    "\n",
    "import seaborn as sns\n",
    "import matplotlib.pyplot as plt\n",
    "import warnings\n",
    "warnings.filterwarnings(\"ignore\")\n",
    "\n",
    "import requests\n",
    "import nltk\n",
    "from sklearn.preprocessing import LabelEncoder\n",
    "from collections import defaultdict\n",
    "from nltk.corpus import wordnet as wn\n",
    "import unicodedata\n",
    "import re\n",
    "import pandas as pd\n",
    "import numpy as np\n",
    "\n",
    "from sklearn import svm\n",
    "from sklearn.linear_model import LogisticRegression\n",
    "from sklearn.metrics import classification_report, accuracy_score\n",
    "from sklearn.feature_extraction.text import TfidfVectorizer\n",
    "\n",
    "\n",
    "from wordcloud import WordCloud\n",
    "from PIL import Image\n",
    "from wordcloud import ImageColorGenerator\n",
    "from jupyterthemes import jtplot\n",
    "jtplot.style(grid=False)\n",
    "\n",
    "import spacy\n",
    "from spacytextblob.spacytextblob import SpacyTextBlob\n",
    "\n",
    "from wrangle import wrangle_articles"
   ]
  },
  {
   "cell_type": "code",
   "execution_count": 3,
   "metadata": {
    "ExecuteTime": {
     "end_time": "2021-05-21T15:36:30.278128Z",
     "start_time": "2021-05-21T15:31:21.323789Z"
    }
   },
   "outputs": [
    {
     "name": "stderr",
     "output_type": "stream",
     "text": [
      "/Users/ken/codeup-data-science/fake_news_capstone/wrangle.py:44: SettingWithCopyWarning: \n",
      "A value is trying to be set on a copy of a slice from a DataFrame\n",
      "\n",
      "See the caveats in the documentation: https://pandas.pydata.org/pandas-docs/stable/user_guide/indexing.html#returning-a-view-versus-a-copy\n",
      "  articles_df.date[row] = \"Aug 16, 2016\"\n"
     ]
    },
    {
     "name": "stdout",
     "output_type": "stream",
     "text": [
      "NaN values\n",
      "Empty DataFrame\n",
      "Columns: [rows, columns]\n",
      "Index: []\n",
      "--------------------------------\n",
      "Empty values\n",
      "      rows  columns\n",
      "0      120        1\n",
      "1      122        1\n",
      "2      152        1\n",
      "3      165        1\n",
      "4      172        1\n",
      "..     ...      ...\n",
      "627  24267        1\n",
      "628  25130        1\n",
      "629  25152        1\n",
      "630  25701        1\n",
      "631  25746        1\n",
      "\n",
      "[632 rows x 2 columns]\n",
      "--------------------------------\n"
     ]
    }
   ],
   "source": [
    "all_articles_df, only_articles_with_text_df = wrangle_articles()"
   ]
  },
  {
   "cell_type": "code",
   "execution_count": 4,
   "metadata": {
    "ExecuteTime": {
     "end_time": "2021-05-21T15:54:15.527634Z",
     "start_time": "2021-05-21T15:54:10.903658Z"
    }
   },
   "outputs": [],
   "source": [
    "all_articles_df.to_csv(\"all_articles.csv\")\n",
    "only_articles_with_text_df.to_csv(\"only_articles_with_text.csv\")"
   ]
  },
  {
   "cell_type": "code",
   "execution_count": 11,
   "metadata": {
    "ExecuteTime": {
     "end_time": "2021-05-21T15:56:03.095861Z",
     "start_time": "2021-05-21T15:56:03.077785Z"
    }
   },
   "outputs": [
    {
     "data": {
      "text/html": [
       "<div>\n",
       "<style scoped>\n",
       "    .dataframe tbody tr th:only-of-type {\n",
       "        vertical-align: middle;\n",
       "    }\n",
       "\n",
       "    .dataframe tbody tr th {\n",
       "        vertical-align: top;\n",
       "    }\n",
       "\n",
       "    .dataframe thead th {\n",
       "        text-align: right;\n",
       "    }\n",
       "</style>\n",
       "<table border=\"1\" class=\"dataframe\">\n",
       "  <thead>\n",
       "    <tr style=\"text-align: right;\">\n",
       "      <th></th>\n",
       "      <th>title</th>\n",
       "      <th>text</th>\n",
       "      <th>subject</th>\n",
       "      <th>date</th>\n",
       "      <th>is_fake</th>\n",
       "    </tr>\n",
       "  </thead>\n",
       "  <tbody>\n",
       "    <tr>\n",
       "      <th>37302</th>\n",
       "      <td>flashback king obama commute sentence 22 drug ...</td>\n",
       "      <td>making room hillary president obama today anno...</td>\n",
       "      <td>politics</td>\n",
       "      <td>2015-03-31</td>\n",
       "      <td>True</td>\n",
       "    </tr>\n",
       "    <tr>\n",
       "      <th>37303</th>\n",
       "      <td>apple ceo say religious freedom law dangerous ...</td>\n",
       "      <td>gay mafia new corporate article need read shee...</td>\n",
       "      <td>politics</td>\n",
       "      <td>2015-03-31</td>\n",
       "      <td>True</td>\n",
       "    </tr>\n",
       "    <tr>\n",
       "      <th>37304</th>\n",
       "      <td>watch dirty harry reid lie romneys tax didnt win</td>\n",
       "      <td>case missed sen harry reid rnv announced last ...</td>\n",
       "      <td>politics</td>\n",
       "      <td>2015-03-31</td>\n",
       "      <td>True</td>\n",
       "    </tr>\n",
       "    <tr>\n",
       "      <th>37305</th>\n",
       "      <td>oh guess funded shrine ted kennedy</td>\n",
       "      <td>nothing like political cronyism make stomach c...</td>\n",
       "      <td>politics</td>\n",
       "      <td>2015-03-31</td>\n",
       "      <td>True</td>\n",
       "    </tr>\n",
       "    <tr>\n",
       "      <th>37306</th>\n",
       "      <td>benghazi panel call hillary testify oath white...</td>\n",
       "      <td>anyone really think hillary clinton come clean...</td>\n",
       "      <td>politics</td>\n",
       "      <td>2015-03-31</td>\n",
       "      <td>True</td>\n",
       "    </tr>\n",
       "  </tbody>\n",
       "</table>\n",
       "</div>"
      ],
      "text/plain": [
       "                                                   title  \\\n",
       "37302  flashback king obama commute sentence 22 drug ...   \n",
       "37303  apple ceo say religious freedom law dangerous ...   \n",
       "37304   watch dirty harry reid lie romneys tax didnt win   \n",
       "37305                 oh guess funded shrine ted kennedy   \n",
       "37306  benghazi panel call hillary testify oath white...   \n",
       "\n",
       "                                                    text   subject       date  \\\n",
       "37302  making room hillary president obama today anno...  politics 2015-03-31   \n",
       "37303  gay mafia new corporate article need read shee...  politics 2015-03-31   \n",
       "37304  case missed sen harry reid rnv announced last ...  politics 2015-03-31   \n",
       "37305  nothing like political cronyism make stomach c...  politics 2015-03-31   \n",
       "37306  anyone really think hillary clinton come clean...  politics 2015-03-31   \n",
       "\n",
       "       is_fake  \n",
       "37302     True  \n",
       "37303     True  \n",
       "37304     True  \n",
       "37305     True  \n",
       "37306     True  "
      ]
     },
     "execution_count": 11,
     "metadata": {},
     "output_type": "execute_result"
    }
   ],
   "source": [
    "all_articles_df.head()"
   ]
  },
  {
   "cell_type": "code",
   "execution_count": 14,
   "metadata": {
    "ExecuteTime": {
     "end_time": "2021-05-21T15:56:19.019906Z",
     "start_time": "2021-05-21T15:56:19.014191Z"
    }
   },
   "outputs": [
    {
     "data": {
      "text/plain": [
       "((44888, 5), (44256, 5))"
      ]
     },
     "execution_count": 14,
     "metadata": {},
     "output_type": "execute_result"
    }
   ],
   "source": [
    "all_articles_df.shape, only_articles_with_text_df.shape"
   ]
  },
  {
   "cell_type": "code",
   "execution_count": 15,
   "metadata": {
    "ExecuteTime": {
     "end_time": "2021-05-21T15:57:25.220481Z",
     "start_time": "2021-05-21T15:57:25.184689Z"
    }
   },
   "outputs": [
    {
     "name": "stdout",
     "output_type": "stream",
     "text": [
      "<class 'pandas.core.frame.DataFrame'>\n",
      "Int64Index: 44256 entries, 37302 to 0\n",
      "Data columns (total 5 columns):\n",
      " #   Column   Non-Null Count  Dtype         \n",
      "---  ------   --------------  -----         \n",
      " 0   title    44256 non-null  object        \n",
      " 1   text     44256 non-null  object        \n",
      " 2   subject  44256 non-null  object        \n",
      " 3   date     44256 non-null  datetime64[ns]\n",
      " 4   is_fake  44256 non-null  bool          \n",
      "dtypes: bool(1), datetime64[ns](1), object(3)\n",
      "memory usage: 3.0+ MB\n"
     ]
    }
   ],
   "source": [
    "only_articles_with_text_df.info()"
   ]
  },
  {
   "cell_type": "code",
   "execution_count": 17,
   "metadata": {
    "ExecuteTime": {
     "end_time": "2021-05-21T15:57:58.943449Z",
     "start_time": "2021-05-21T15:57:58.926957Z"
    }
   },
   "outputs": [
    {
     "data": {
      "text/plain": [
       "politicsNews       0.253028\n",
       "worldnews          0.220377\n",
       "News               0.200741\n",
       "politics           0.154465\n",
       "left-news          0.100687\n",
       "Government News    0.035430\n",
       "US_News            0.017693\n",
       "Middle-east        0.017580\n",
       "Name: subject, dtype: float64"
      ]
     },
     "execution_count": 17,
     "metadata": {},
     "output_type": "execute_result"
    }
   ],
   "source": [
    "only_articles_with_text_df.subject.value_counts(normalize=True)"
   ]
  },
  {
   "cell_type": "code",
   "execution_count": 18,
   "metadata": {
    "ExecuteTime": {
     "end_time": "2021-05-21T16:01:27.214344Z",
     "start_time": "2021-05-21T16:01:27.195575Z"
    }
   },
   "outputs": [
    {
     "data": {
      "text/plain": [
       "True     23305\n",
       "False    20951\n",
       "Name: is_fake, dtype: int64"
      ]
     },
     "execution_count": 18,
     "metadata": {},
     "output_type": "execute_result"
    }
   ],
   "source": [
    "only_articles_with_text_df.is_fake.value_counts()"
   ]
  },
  {
   "cell_type": "markdown",
   "metadata": {
    "ExecuteTime": {
     "end_time": "2021-05-21T16:13:19.251614Z",
     "start_time": "2021-05-21T16:13:19.227832Z"
    }
   },
   "source": [
    "import spacy\n",
    "from spacytextblob.spacytextblob import SpacyTextBlob\n",
    "\n",
    "nlp = spacy.load('en_core_web_sm')\n",
    "nlp.add_pipe('spacytextblob')\n",
    "text = 'I had a really horrible day. It was the worst day ever! But every now and then I have a really good day that makes me happy.'\n",
    "doc = nlp(text)\n",
    "doc._.polarity      # Polarity: -0.125\n",
    "doc._.subjectivity  # Sujectivity: 0.9\n",
    "doc._.assessments   # Assessments: [(['really', 'horrible'], -1.0, 1.0, None), (['worst', '!'], -1.0, 1.0, None), (['really', 'good'], 0.7, 0.6000000000000001, None), (['happy'], 0.8, 1.0, None)]"
   ]
  },
  {
   "cell_type": "code",
   "execution_count": 8,
   "metadata": {
    "ExecuteTime": {
     "end_time": "2021-05-21T15:55:04.136369Z",
     "start_time": "2021-05-21T15:55:02.392469Z"
    }
   },
   "outputs": [
    {
     "name": "stdout",
     "output_type": "stream",
     "text": [
      "['tok2vec', 'tagger', 'parser', 'ner', 'attribute_ruler', 'lemmatizer', 'spacytextblob']\n"
     ]
    }
   ],
   "source": [
    "nlp = spacy.load('en_core_web_md')\n",
    "nlp.add_pipe(\"spacytextblob\")\n",
    "print(nlp.pipe_names) "
   ]
  },
  {
   "cell_type": "code",
   "execution_count": 21,
   "metadata": {
    "ExecuteTime": {
     "end_time": "2021-05-21T16:21:19.315306Z",
     "start_time": "2021-05-21T16:21:19.307495Z"
    }
   },
   "outputs": [],
   "source": [
    "def polarity(text):\n",
    "    '''function takes a body of text and outputs the polarity score [-1.0:1.0]'''\n",
    "    doc = nlp(text)\n",
    "    return doc._.polarity\n",
    "\n",
    "def subjectivity(text):\n",
    "    '''fuction takes a body of text and outputs the subjectivity score [0.0:1.0]'''\n",
    "    doc = nlp(text)\n",
    "    return doc._.subjectivity    "
   ]
  },
  {
   "cell_type": "code",
   "execution_count": 22,
   "metadata": {
    "ExecuteTime": {
     "end_time": "2021-05-21T17:25:06.825001Z",
     "start_time": "2021-05-21T16:22:42.190813Z"
    }
   },
   "outputs": [
    {
     "data": {
      "text/html": [
       "<div>\n",
       "<style scoped>\n",
       "    .dataframe tbody tr th:only-of-type {\n",
       "        vertical-align: middle;\n",
       "    }\n",
       "\n",
       "    .dataframe tbody tr th {\n",
       "        vertical-align: top;\n",
       "    }\n",
       "\n",
       "    .dataframe thead th {\n",
       "        text-align: right;\n",
       "    }\n",
       "</style>\n",
       "<table border=\"1\" class=\"dataframe\">\n",
       "  <thead>\n",
       "    <tr style=\"text-align: right;\">\n",
       "      <th></th>\n",
       "      <th>title</th>\n",
       "      <th>text</th>\n",
       "      <th>subject</th>\n",
       "      <th>date</th>\n",
       "      <th>is_fake</th>\n",
       "      <th>text_polarity</th>\n",
       "    </tr>\n",
       "  </thead>\n",
       "  <tbody>\n",
       "    <tr>\n",
       "      <th>37302</th>\n",
       "      <td>flashback king obama commute sentence 22 drug ...</td>\n",
       "      <td>making room hillary president obama today anno...</td>\n",
       "      <td>politics</td>\n",
       "      <td>2015-03-31</td>\n",
       "      <td>True</td>\n",
       "      <td>-0.201587</td>\n",
       "    </tr>\n",
       "    <tr>\n",
       "      <th>37303</th>\n",
       "      <td>apple ceo say religious freedom law dangerous ...</td>\n",
       "      <td>gay mafia new corporate article need read shee...</td>\n",
       "      <td>politics</td>\n",
       "      <td>2015-03-31</td>\n",
       "      <td>True</td>\n",
       "      <td>-0.040032</td>\n",
       "    </tr>\n",
       "    <tr>\n",
       "      <th>37304</th>\n",
       "      <td>watch dirty harry reid lie romneys tax didnt win</td>\n",
       "      <td>case missed sen harry reid rnv announced last ...</td>\n",
       "      <td>politics</td>\n",
       "      <td>2015-03-31</td>\n",
       "      <td>True</td>\n",
       "      <td>0.150000</td>\n",
       "    </tr>\n",
       "    <tr>\n",
       "      <th>37305</th>\n",
       "      <td>oh guess funded shrine ted kennedy</td>\n",
       "      <td>nothing like political cronyism make stomach c...</td>\n",
       "      <td>politics</td>\n",
       "      <td>2015-03-31</td>\n",
       "      <td>True</td>\n",
       "      <td>0.122865</td>\n",
       "    </tr>\n",
       "    <tr>\n",
       "      <th>37306</th>\n",
       "      <td>benghazi panel call hillary testify oath white...</td>\n",
       "      <td>anyone really think hillary clinton come clean...</td>\n",
       "      <td>politics</td>\n",
       "      <td>2015-03-31</td>\n",
       "      <td>True</td>\n",
       "      <td>0.110586</td>\n",
       "    </tr>\n",
       "  </tbody>\n",
       "</table>\n",
       "</div>"
      ],
      "text/plain": [
       "                                                   title  \\\n",
       "37302  flashback king obama commute sentence 22 drug ...   \n",
       "37303  apple ceo say religious freedom law dangerous ...   \n",
       "37304   watch dirty harry reid lie romneys tax didnt win   \n",
       "37305                 oh guess funded shrine ted kennedy   \n",
       "37306  benghazi panel call hillary testify oath white...   \n",
       "\n",
       "                                                    text   subject       date  \\\n",
       "37302  making room hillary president obama today anno...  politics 2015-03-31   \n",
       "37303  gay mafia new corporate article need read shee...  politics 2015-03-31   \n",
       "37304  case missed sen harry reid rnv announced last ...  politics 2015-03-31   \n",
       "37305  nothing like political cronyism make stomach c...  politics 2015-03-31   \n",
       "37306  anyone really think hillary clinton come clean...  politics 2015-03-31   \n",
       "\n",
       "       is_fake  text_polarity  \n",
       "37302     True      -0.201587  \n",
       "37303     True      -0.040032  \n",
       "37304     True       0.150000  \n",
       "37305     True       0.122865  \n",
       "37306     True       0.110586  "
      ]
     },
     "execution_count": 22,
     "metadata": {},
     "output_type": "execute_result"
    }
   ],
   "source": [
    "only_articles_with_text_df['text_polarity'] = only_articles_with_text_df.text.apply(polarity)\n",
    "only_articles_with_text_df.head()"
   ]
  },
  {
   "cell_type": "code",
   "execution_count": 23,
   "metadata": {
    "ExecuteTime": {
     "end_time": "2021-05-21T18:07:12.080959Z",
     "start_time": "2021-05-21T17:25:06.830343Z"
    }
   },
   "outputs": [
    {
     "data": {
      "text/html": [
       "<div>\n",
       "<style scoped>\n",
       "    .dataframe tbody tr th:only-of-type {\n",
       "        vertical-align: middle;\n",
       "    }\n",
       "\n",
       "    .dataframe tbody tr th {\n",
       "        vertical-align: top;\n",
       "    }\n",
       "\n",
       "    .dataframe thead th {\n",
       "        text-align: right;\n",
       "    }\n",
       "</style>\n",
       "<table border=\"1\" class=\"dataframe\">\n",
       "  <thead>\n",
       "    <tr style=\"text-align: right;\">\n",
       "      <th></th>\n",
       "      <th>title</th>\n",
       "      <th>text</th>\n",
       "      <th>subject</th>\n",
       "      <th>date</th>\n",
       "      <th>is_fake</th>\n",
       "      <th>text_polarity</th>\n",
       "      <th>text_subjectivity</th>\n",
       "    </tr>\n",
       "  </thead>\n",
       "  <tbody>\n",
       "    <tr>\n",
       "      <th>37302</th>\n",
       "      <td>flashback king obama commute sentence 22 drug ...</td>\n",
       "      <td>making room hillary president obama today anno...</td>\n",
       "      <td>politics</td>\n",
       "      <td>2015-03-31</td>\n",
       "      <td>True</td>\n",
       "      <td>-0.201587</td>\n",
       "      <td>0.493452</td>\n",
       "    </tr>\n",
       "    <tr>\n",
       "      <th>37303</th>\n",
       "      <td>apple ceo say religious freedom law dangerous ...</td>\n",
       "      <td>gay mafia new corporate article need read shee...</td>\n",
       "      <td>politics</td>\n",
       "      <td>2015-03-31</td>\n",
       "      <td>True</td>\n",
       "      <td>-0.040032</td>\n",
       "      <td>0.582057</td>\n",
       "    </tr>\n",
       "    <tr>\n",
       "      <th>37304</th>\n",
       "      <td>watch dirty harry reid lie romneys tax didnt win</td>\n",
       "      <td>case missed sen harry reid rnv announced last ...</td>\n",
       "      <td>politics</td>\n",
       "      <td>2015-03-31</td>\n",
       "      <td>True</td>\n",
       "      <td>0.150000</td>\n",
       "      <td>0.511111</td>\n",
       "    </tr>\n",
       "    <tr>\n",
       "      <th>37305</th>\n",
       "      <td>oh guess funded shrine ted kennedy</td>\n",
       "      <td>nothing like political cronyism make stomach c...</td>\n",
       "      <td>politics</td>\n",
       "      <td>2015-03-31</td>\n",
       "      <td>True</td>\n",
       "      <td>0.122865</td>\n",
       "      <td>0.441116</td>\n",
       "    </tr>\n",
       "    <tr>\n",
       "      <th>37306</th>\n",
       "      <td>benghazi panel call hillary testify oath white...</td>\n",
       "      <td>anyone really think hillary clinton come clean...</td>\n",
       "      <td>politics</td>\n",
       "      <td>2015-03-31</td>\n",
       "      <td>True</td>\n",
       "      <td>0.110586</td>\n",
       "      <td>0.433784</td>\n",
       "    </tr>\n",
       "  </tbody>\n",
       "</table>\n",
       "</div>"
      ],
      "text/plain": [
       "                                                   title  \\\n",
       "37302  flashback king obama commute sentence 22 drug ...   \n",
       "37303  apple ceo say religious freedom law dangerous ...   \n",
       "37304   watch dirty harry reid lie romneys tax didnt win   \n",
       "37305                 oh guess funded shrine ted kennedy   \n",
       "37306  benghazi panel call hillary testify oath white...   \n",
       "\n",
       "                                                    text   subject       date  \\\n",
       "37302  making room hillary president obama today anno...  politics 2015-03-31   \n",
       "37303  gay mafia new corporate article need read shee...  politics 2015-03-31   \n",
       "37304  case missed sen harry reid rnv announced last ...  politics 2015-03-31   \n",
       "37305  nothing like political cronyism make stomach c...  politics 2015-03-31   \n",
       "37306  anyone really think hillary clinton come clean...  politics 2015-03-31   \n",
       "\n",
       "       is_fake  text_polarity  text_subjectivity  \n",
       "37302     True      -0.201587           0.493452  \n",
       "37303     True      -0.040032           0.582057  \n",
       "37304     True       0.150000           0.511111  \n",
       "37305     True       0.122865           0.441116  \n",
       "37306     True       0.110586           0.433784  "
      ]
     },
     "execution_count": 23,
     "metadata": {},
     "output_type": "execute_result"
    }
   ],
   "source": [
    "only_articles_with_text_df['text_subjectivity'] = only_articles_with_text_df.text.apply(subjectivity)\n",
    "only_articles_with_text_df.head()"
   ]
  },
  {
   "cell_type": "code",
   "execution_count": 24,
   "metadata": {
    "ExecuteTime": {
     "end_time": "2021-05-21T18:07:15.224184Z",
     "start_time": "2021-05-21T18:07:12.087539Z"
    }
   },
   "outputs": [],
   "source": [
    "only_articles_with_text_df.to_csv(\"only_articles_with_text.csv\")"
   ]
  },
  {
   "cell_type": "code",
   "execution_count": null,
   "metadata": {},
   "outputs": [],
   "source": []
  }
 ],
 "metadata": {
  "kernelspec": {
   "display_name": "Python 3",
   "language": "python",
   "name": "python3"
  },
  "language_info": {
   "codemirror_mode": {
    "name": "ipython",
    "version": 3
   },
   "file_extension": ".py",
   "mimetype": "text/x-python",
   "name": "python",
   "nbconvert_exporter": "python",
   "pygments_lexer": "ipython3",
   "version": "3.8.5"
  }
 },
 "nbformat": 4,
 "nbformat_minor": 4
}
