{
 "cells": [
  {
   "cell_type": "code",
   "execution_count": 1,
   "metadata": {
    "ExecuteTime": {
     "end_time": "2021-05-21T20:56:25.699213Z",
     "start_time": "2021-05-21T20:56:12.861451Z"
    }
   },
   "outputs": [],
   "source": [
    "import env\n",
    "import pandas as pd\n",
    "import numpy as np\n",
    "import utilities as utils\n",
    "\n",
    "import seaborn as sns\n",
    "import matplotlib.pyplot as plt\n",
    "import warnings\n",
    "warnings.filterwarnings(\"ignore\")\n",
    "\n",
    "import requests\n",
    "import nltk\n",
    "from sklearn.preprocessing import LabelEncoder\n",
    "from collections import defaultdict\n",
    "from nltk.corpus import wordnet as wn\n",
    "import unicodedata\n",
    "import re\n",
    "import pandas as pd\n",
    "import numpy as np\n",
    "\n",
    "from sklearn import svm\n",
    "from sklearn.linear_model import LogisticRegression\n",
    "from sklearn.metrics import classification_report, accuracy_score\n",
    "from sklearn.feature_extraction.text import TfidfVectorizer\n",
    "\n",
    "\n",
    "from wordcloud import WordCloud\n",
    "from PIL import Image\n",
    "from wordcloud import ImageColorGenerator\n",
    "from jupyterthemes import jtplot\n",
    "jtplot.style(grid=False)\n",
    "\n",
    "import spacy\n",
    "from spacytextblob.spacytextblob import SpacyTextBlob\n",
    "\n",
    "from wrangle import wrangle_articles"
   ]
  },
  {
   "cell_type": "code",
   "execution_count": 3,
   "metadata": {
    "ExecuteTime": {
     "end_time": "2021-05-21T21:03:24.336836Z",
     "start_time": "2021-05-21T20:57:28.995720Z"
    }
   },
   "outputs": [
    {
     "name": "stdout",
     "output_type": "stream",
     "text": [
      "NaN values\n",
      "Empty DataFrame\n",
      "Columns: [rows, columns]\n",
      "Index: []\n",
      "--------------------------------\n",
      "Empty values\n",
      "       rows  columns\n",
      "0       120        1\n",
      "1       120        6\n",
      "2       122        1\n",
      "3       122        6\n",
      "4       152        1\n",
      "...     ...      ...\n",
      "1258  25152        6\n",
      "1259  25701        1\n",
      "1260  25701        6\n",
      "1261  25746        1\n",
      "1262  25746        6\n",
      "\n",
      "[1263 rows x 2 columns]\n",
      "--------------------------------\n"
     ]
    }
   ],
   "source": [
    "articles_df = wrangle_articles()"
   ]
  },
  {
   "cell_type": "code",
   "execution_count": 4,
   "metadata": {
    "ExecuteTime": {
     "end_time": "2021-05-21T21:03:24.452186Z",
     "start_time": "2021-05-21T21:03:24.345129Z"
    }
   },
   "outputs": [
    {
     "data": {
      "text/html": [
       "<div>\n",
       "<style scoped>\n",
       "    .dataframe tbody tr th:only-of-type {\n",
       "        vertical-align: middle;\n",
       "    }\n",
       "\n",
       "    .dataframe tbody tr th {\n",
       "        vertical-align: top;\n",
       "    }\n",
       "\n",
       "    .dataframe thead th {\n",
       "        text-align: right;\n",
       "    }\n",
       "</style>\n",
       "<table border=\"1\" class=\"dataframe\">\n",
       "  <thead>\n",
       "    <tr style=\"text-align: right;\">\n",
       "      <th></th>\n",
       "      <th>title</th>\n",
       "      <th>text</th>\n",
       "      <th>subject</th>\n",
       "      <th>date</th>\n",
       "      <th>is_fake</th>\n",
       "      <th>clean_title</th>\n",
       "      <th>clean_text</th>\n",
       "    </tr>\n",
       "  </thead>\n",
       "  <tbody>\n",
       "    <tr>\n",
       "      <th>37302</th>\n",
       "      <td>FLASHBACK: KING OBAMA COMMUTES SENTENCES OF 22...</td>\n",
       "      <td>Just making room for Hillary President Obama t...</td>\n",
       "      <td>politics</td>\n",
       "      <td>2015-03-31</td>\n",
       "      <td>True</td>\n",
       "      <td>flashback king obama commute sentence 22 drug ...</td>\n",
       "      <td>making room hillary president obama today anno...</td>\n",
       "    </tr>\n",
       "    <tr>\n",
       "      <th>37303</th>\n",
       "      <td>APPLE’S CEO SAYS RELIGIOUS FREEDOM LAWS ARE ‘D...</td>\n",
       "      <td>The gay mafia has a new corporate  Don. This i...</td>\n",
       "      <td>politics</td>\n",
       "      <td>2015-03-31</td>\n",
       "      <td>True</td>\n",
       "      <td>apple ceo say religious freedom law dangerous ...</td>\n",
       "      <td>gay mafia new corporate article need read shee...</td>\n",
       "    </tr>\n",
       "    <tr>\n",
       "      <th>37304</th>\n",
       "      <td>WATCH DIRTY HARRY REID ON HIS LIE ABOUT ROMNEY...</td>\n",
       "      <td>In case you missed it Sen. Harry Reid (R-NV), ...</td>\n",
       "      <td>politics</td>\n",
       "      <td>2015-03-31</td>\n",
       "      <td>True</td>\n",
       "      <td>watch dirty harry reid lie romneys tax didnt win</td>\n",
       "      <td>case missed sen harry reid rnv announced last ...</td>\n",
       "    </tr>\n",
       "    <tr>\n",
       "      <th>37305</th>\n",
       "      <td>OH NO! GUESS WHO FUNDED THE SHRINE TO TED KENNEDY</td>\n",
       "      <td>Nothing like political cronyism to make your s...</td>\n",
       "      <td>politics</td>\n",
       "      <td>2015-03-31</td>\n",
       "      <td>True</td>\n",
       "      <td>oh guess funded shrine ted kennedy</td>\n",
       "      <td>nothing like political cronyism make stomach c...</td>\n",
       "    </tr>\n",
       "    <tr>\n",
       "      <th>37306</th>\n",
       "      <td>BENGHAZI PANEL CALLS HILLARY TO TESTIFY UNDER ...</td>\n",
       "      <td>Does anyone really think Hillary Clinton will ...</td>\n",
       "      <td>politics</td>\n",
       "      <td>2015-03-31</td>\n",
       "      <td>True</td>\n",
       "      <td>benghazi panel call hillary testify oath white...</td>\n",
       "      <td>anyone really think hillary clinton come clean...</td>\n",
       "    </tr>\n",
       "  </tbody>\n",
       "</table>\n",
       "</div>"
      ],
      "text/plain": [
       "                                                   title  \\\n",
       "37302  FLASHBACK: KING OBAMA COMMUTES SENTENCES OF 22...   \n",
       "37303  APPLE’S CEO SAYS RELIGIOUS FREEDOM LAWS ARE ‘D...   \n",
       "37304  WATCH DIRTY HARRY REID ON HIS LIE ABOUT ROMNEY...   \n",
       "37305  OH NO! GUESS WHO FUNDED THE SHRINE TO TED KENNEDY   \n",
       "37306  BENGHAZI PANEL CALLS HILLARY TO TESTIFY UNDER ...   \n",
       "\n",
       "                                                    text   subject       date  \\\n",
       "37302  Just making room for Hillary President Obama t...  politics 2015-03-31   \n",
       "37303  The gay mafia has a new corporate  Don. This i...  politics 2015-03-31   \n",
       "37304  In case you missed it Sen. Harry Reid (R-NV), ...  politics 2015-03-31   \n",
       "37305  Nothing like political cronyism to make your s...  politics 2015-03-31   \n",
       "37306  Does anyone really think Hillary Clinton will ...  politics 2015-03-31   \n",
       "\n",
       "       is_fake                                        clean_title  \\\n",
       "37302     True  flashback king obama commute sentence 22 drug ...   \n",
       "37303     True  apple ceo say religious freedom law dangerous ...   \n",
       "37304     True   watch dirty harry reid lie romneys tax didnt win   \n",
       "37305     True                 oh guess funded shrine ted kennedy   \n",
       "37306     True  benghazi panel call hillary testify oath white...   \n",
       "\n",
       "                                              clean_text  \n",
       "37302  making room hillary president obama today anno...  \n",
       "37303  gay mafia new corporate article need read shee...  \n",
       "37304  case missed sen harry reid rnv announced last ...  \n",
       "37305  nothing like political cronyism make stomach c...  \n",
       "37306  anyone really think hillary clinton come clean...  "
      ]
     },
     "execution_count": 4,
     "metadata": {},
     "output_type": "execute_result"
    }
   ],
   "source": [
    "articles_df.head()"
   ]
  },
  {
   "cell_type": "code",
   "execution_count": 5,
   "metadata": {
    "ExecuteTime": {
     "end_time": "2021-05-21T21:03:24.489662Z",
     "start_time": "2021-05-21T21:03:24.467585Z"
    }
   },
   "outputs": [
    {
     "data": {
      "text/plain": [
       "(38470, 7)"
      ]
     },
     "execution_count": 5,
     "metadata": {},
     "output_type": "execute_result"
    }
   ],
   "source": [
    "articles_df.shape"
   ]
  },
  {
   "cell_type": "code",
   "execution_count": 6,
   "metadata": {
    "ExecuteTime": {
     "end_time": "2021-05-21T21:03:24.640717Z",
     "start_time": "2021-05-21T21:03:24.521280Z"
    }
   },
   "outputs": [
    {
     "name": "stdout",
     "output_type": "stream",
     "text": [
      "<class 'pandas.core.frame.DataFrame'>\n",
      "Int64Index: 38470 entries, 37302 to 0\n",
      "Data columns (total 7 columns):\n",
      " #   Column       Non-Null Count  Dtype         \n",
      "---  ------       --------------  -----         \n",
      " 0   title        38470 non-null  object        \n",
      " 1   text         38470 non-null  object        \n",
      " 2   subject      38470 non-null  object        \n",
      " 3   date         38470 non-null  datetime64[ns]\n",
      " 4   is_fake      38470 non-null  bool          \n",
      " 5   clean_title  38470 non-null  object        \n",
      " 6   clean_text   38470 non-null  object        \n",
      "dtypes: bool(1), datetime64[ns](1), object(5)\n",
      "memory usage: 2.1+ MB\n"
     ]
    }
   ],
   "source": [
    "articles_df.info()"
   ]
  },
  {
   "cell_type": "code",
   "execution_count": 7,
   "metadata": {
    "ExecuteTime": {
     "end_time": "2021-05-21T21:03:24.701587Z",
     "start_time": "2021-05-21T21:03:24.657359Z"
    }
   },
   "outputs": [
    {
     "data": {
      "text/plain": [
       "politicsNews       0.289524\n",
       "worldnews          0.249441\n",
       "News               0.230933\n",
       "politics           0.119340\n",
       "left-news          0.065896\n",
       "Government News    0.024513\n",
       "Middle-east        0.010866\n",
       "US_News            0.009488\n",
       "Name: subject, dtype: float64"
      ]
     },
     "execution_count": 7,
     "metadata": {},
     "output_type": "execute_result"
    }
   ],
   "source": [
    "articles_df.subject.value_counts(normalize=True)"
   ]
  },
  {
   "cell_type": "code",
   "execution_count": 8,
   "metadata": {
    "ExecuteTime": {
     "end_time": "2021-05-21T21:03:24.769526Z",
     "start_time": "2021-05-21T21:03:24.714463Z"
    }
   },
   "outputs": [
    {
     "data": {
      "text/plain": [
       "False    20734\n",
       "True     17736\n",
       "Name: is_fake, dtype: int64"
      ]
     },
     "execution_count": 8,
     "metadata": {},
     "output_type": "execute_result"
    }
   ],
   "source": [
    "articles_df.is_fake.value_counts()"
   ]
  },
  {
   "cell_type": "markdown",
   "metadata": {
    "ExecuteTime": {
     "end_time": "2021-05-21T16:13:19.251614Z",
     "start_time": "2021-05-21T16:13:19.227832Z"
    }
   },
   "source": [
    "import spacy\n",
    "from spacytextblob.spacytextblob import SpacyTextBlob\n",
    "\n",
    "nlp = spacy.load('en_core_web_sm')\n",
    "nlp.add_pipe('spacytextblob')\n",
    "text = 'I had a really horrible day. It was the worst day ever! But every now and then I have a really good day that makes me happy.'\n",
    "doc = nlp(text)\n",
    "doc._.polarity      # Polarity: -0.125\n",
    "doc._.subjectivity  # Sujectivity: 0.9\n",
    "doc._.assessments   # Assessments: [(['really', 'horrible'], -1.0, 1.0, None), (['worst', '!'], -1.0, 1.0, None), (['really', 'good'], 0.7, 0.6000000000000001, None), (['happy'], 0.8, 1.0, None)]"
   ]
  },
  {
   "cell_type": "code",
   "execution_count": 9,
   "metadata": {
    "ExecuteTime": {
     "end_time": "2021-05-21T21:03:28.575312Z",
     "start_time": "2021-05-21T21:03:24.783001Z"
    }
   },
   "outputs": [
    {
     "name": "stdout",
     "output_type": "stream",
     "text": [
      "['tok2vec', 'tagger', 'parser', 'ner', 'attribute_ruler', 'lemmatizer', 'spacytextblob']\n"
     ]
    }
   ],
   "source": [
    "nlp = spacy.load('en_core_web_md')\n",
    "nlp.add_pipe(\"spacytextblob\")\n",
    "print(nlp.pipe_names) "
   ]
  },
  {
   "cell_type": "code",
   "execution_count": 10,
   "metadata": {
    "ExecuteTime": {
     "end_time": "2021-05-21T21:03:28.665127Z",
     "start_time": "2021-05-21T21:03:28.606144Z"
    }
   },
   "outputs": [],
   "source": [
    "def polarity(text):\n",
    "    '''function takes a body of text and outputs the polarity score [-1.0:1.0]'''\n",
    "    doc = nlp(text)\n",
    "    return doc._.polarity\n",
    "\n",
    "def subjectivity(text):\n",
    "    '''fuction takes a body of text and outputs the subjectivity score [0.0:1.0]'''\n",
    "    doc = nlp(text)\n",
    "    return doc._.subjectivity    "
   ]
  },
  {
   "cell_type": "code",
   "execution_count": 13,
   "metadata": {
    "ExecuteTime": {
     "end_time": "2021-05-21T21:06:31.690459Z",
     "start_time": "2021-05-21T21:06:31.676450Z"
    }
   },
   "outputs": [
    {
     "data": {
      "text/plain": [
       "['title', 'text', 'subject', 'date', 'is_fake', 'clean_title', 'clean_text']"
      ]
     },
     "execution_count": 13,
     "metadata": {},
     "output_type": "execute_result"
    }
   ],
   "source": [
    "articles_df.columns.tolist()"
   ]
  },
  {
   "cell_type": "code",
   "execution_count": 19,
   "metadata": {
    "ExecuteTime": {
     "end_time": "2021-05-21T21:10:15.154879Z",
     "start_time": "2021-05-21T21:10:15.094201Z"
    }
   },
   "outputs": [
    {
     "data": {
      "text/html": [
       "<div>\n",
       "<style scoped>\n",
       "    .dataframe tbody tr th:only-of-type {\n",
       "        vertical-align: middle;\n",
       "    }\n",
       "\n",
       "    .dataframe tbody tr th {\n",
       "        vertical-align: top;\n",
       "    }\n",
       "\n",
       "    .dataframe thead th {\n",
       "        text-align: right;\n",
       "    }\n",
       "</style>\n",
       "<table border=\"1\" class=\"dataframe\">\n",
       "  <thead>\n",
       "    <tr style=\"text-align: right;\">\n",
       "      <th></th>\n",
       "      <th>date</th>\n",
       "      <th>subject</th>\n",
       "      <th>title</th>\n",
       "      <th>text</th>\n",
       "      <th>clean_title</th>\n",
       "      <th>clean_text</th>\n",
       "      <th>is_fake</th>\n",
       "    </tr>\n",
       "  </thead>\n",
       "  <tbody>\n",
       "    <tr>\n",
       "      <th>0</th>\n",
       "      <td>2015-03-31</td>\n",
       "      <td>politics</td>\n",
       "      <td>FLASHBACK: KING OBAMA COMMUTES SENTENCES OF 22...</td>\n",
       "      <td>Just making room for Hillary President Obama t...</td>\n",
       "      <td>flashback king obama commute sentence 22 drug ...</td>\n",
       "      <td>making room hillary president obama today anno...</td>\n",
       "      <td>True</td>\n",
       "    </tr>\n",
       "    <tr>\n",
       "      <th>1</th>\n",
       "      <td>2015-03-31</td>\n",
       "      <td>politics</td>\n",
       "      <td>APPLE’S CEO SAYS RELIGIOUS FREEDOM LAWS ARE ‘D...</td>\n",
       "      <td>The gay mafia has a new corporate  Don. This i...</td>\n",
       "      <td>apple ceo say religious freedom law dangerous ...</td>\n",
       "      <td>gay mafia new corporate article need read shee...</td>\n",
       "      <td>True</td>\n",
       "    </tr>\n",
       "    <tr>\n",
       "      <th>2</th>\n",
       "      <td>2015-03-31</td>\n",
       "      <td>politics</td>\n",
       "      <td>WATCH DIRTY HARRY REID ON HIS LIE ABOUT ROMNEY...</td>\n",
       "      <td>In case you missed it Sen. Harry Reid (R-NV), ...</td>\n",
       "      <td>watch dirty harry reid lie romneys tax didnt win</td>\n",
       "      <td>case missed sen harry reid rnv announced last ...</td>\n",
       "      <td>True</td>\n",
       "    </tr>\n",
       "    <tr>\n",
       "      <th>3</th>\n",
       "      <td>2015-03-31</td>\n",
       "      <td>politics</td>\n",
       "      <td>OH NO! GUESS WHO FUNDED THE SHRINE TO TED KENNEDY</td>\n",
       "      <td>Nothing like political cronyism to make your s...</td>\n",
       "      <td>oh guess funded shrine ted kennedy</td>\n",
       "      <td>nothing like political cronyism make stomach c...</td>\n",
       "      <td>True</td>\n",
       "    </tr>\n",
       "    <tr>\n",
       "      <th>4</th>\n",
       "      <td>2015-03-31</td>\n",
       "      <td>politics</td>\n",
       "      <td>BENGHAZI PANEL CALLS HILLARY TO TESTIFY UNDER ...</td>\n",
       "      <td>Does anyone really think Hillary Clinton will ...</td>\n",
       "      <td>benghazi panel call hillary testify oath white...</td>\n",
       "      <td>anyone really think hillary clinton come clean...</td>\n",
       "      <td>True</td>\n",
       "    </tr>\n",
       "  </tbody>\n",
       "</table>\n",
       "</div>"
      ],
      "text/plain": [
       "        date   subject                                              title  \\\n",
       "0 2015-03-31  politics  FLASHBACK: KING OBAMA COMMUTES SENTENCES OF 22...   \n",
       "1 2015-03-31  politics  APPLE’S CEO SAYS RELIGIOUS FREEDOM LAWS ARE ‘D...   \n",
       "2 2015-03-31  politics  WATCH DIRTY HARRY REID ON HIS LIE ABOUT ROMNEY...   \n",
       "3 2015-03-31  politics  OH NO! GUESS WHO FUNDED THE SHRINE TO TED KENNEDY   \n",
       "4 2015-03-31  politics  BENGHAZI PANEL CALLS HILLARY TO TESTIFY UNDER ...   \n",
       "\n",
       "                                                text  \\\n",
       "0  Just making room for Hillary President Obama t...   \n",
       "1  The gay mafia has a new corporate  Don. This i...   \n",
       "2  In case you missed it Sen. Harry Reid (R-NV), ...   \n",
       "3  Nothing like political cronyism to make your s...   \n",
       "4  Does anyone really think Hillary Clinton will ...   \n",
       "\n",
       "                                         clean_title  \\\n",
       "0  flashback king obama commute sentence 22 drug ...   \n",
       "1  apple ceo say religious freedom law dangerous ...   \n",
       "2   watch dirty harry reid lie romneys tax didnt win   \n",
       "3                 oh guess funded shrine ted kennedy   \n",
       "4  benghazi panel call hillary testify oath white...   \n",
       "\n",
       "                                          clean_text  is_fake  \n",
       "0  making room hillary president obama today anno...     True  \n",
       "1  gay mafia new corporate article need read shee...     True  \n",
       "2  case missed sen harry reid rnv announced last ...     True  \n",
       "3  nothing like political cronyism make stomach c...     True  \n",
       "4  anyone really think hillary clinton come clean...     True  "
      ]
     },
     "execution_count": 19,
     "metadata": {},
     "output_type": "execute_result"
    }
   ],
   "source": [
    "articles_df = articles_df[['date','subject','title', 'text', 'clean_title', 'clean_text','is_fake']]\n",
    "articles_df = articles_df.reset_index().drop(columns='index')\n",
    "articles_df.head()"
   ]
  },
  {
   "cell_type": "code",
   "execution_count": null,
   "metadata": {
    "ExecuteTime": {
     "end_time": "2021-05-21T17:25:06.825001Z",
     "start_time": "2021-05-21T16:22:42.190813Z"
    }
   },
   "outputs": [],
   "source": [
    "articles_df['text_polarity'] =articles_df.clean_text.apply(polarity)"
   ]
  },
  {
   "cell_type": "code",
   "execution_count": null,
   "metadata": {
    "ExecuteTime": {
     "end_time": "2021-05-21T17:25:06.825001Z",
     "start_time": "2021-05-21T16:22:42.190813Z"
    }
   },
   "outputs": [],
   "source": [
    "articles_df['text_subjectivity'] = articles_df.clean_text.apply(subjectivity)"
   ]
  },
  {
   "cell_type": "code",
   "execution_count": null,
   "metadata": {
    "ExecuteTime": {
     "end_time": "2021-05-21T17:25:06.825001Z",
     "start_time": "2021-05-21T16:22:42.190813Z"
    }
   },
   "outputs": [],
   "source": [
    "articles_df['title_polarity'] = articles_df.clean_title.apply(polarity)"
   ]
  },
  {
   "cell_type": "code",
   "execution_count": null,
   "metadata": {
    "ExecuteTime": {
     "end_time": "2021-05-21T17:25:06.825001Z",
     "start_time": "2021-05-21T16:22:42.190813Z"
    }
   },
   "outputs": [],
   "source": [
    "articles_df['title_subjectivity'] = articles_df.clean_title.apply(subjectivity)"
   ]
  },
  {
   "cell_type": "code",
   "execution_count": 22,
   "metadata": {
    "ExecuteTime": {
     "end_time": "2021-05-21T17:25:06.825001Z",
     "start_time": "2021-05-21T16:22:42.190813Z"
    }
   },
   "outputs": [
    {
     "data": {
      "text/html": [
       "<div>\n",
       "<style scoped>\n",
       "    .dataframe tbody tr th:only-of-type {\n",
       "        vertical-align: middle;\n",
       "    }\n",
       "\n",
       "    .dataframe tbody tr th {\n",
       "        vertical-align: top;\n",
       "    }\n",
       "\n",
       "    .dataframe thead th {\n",
       "        text-align: right;\n",
       "    }\n",
       "</style>\n",
       "<table border=\"1\" class=\"dataframe\">\n",
       "  <thead>\n",
       "    <tr style=\"text-align: right;\">\n",
       "      <th></th>\n",
       "      <th>title</th>\n",
       "      <th>text</th>\n",
       "      <th>subject</th>\n",
       "      <th>date</th>\n",
       "      <th>is_fake</th>\n",
       "      <th>text_polarity</th>\n",
       "    </tr>\n",
       "  </thead>\n",
       "  <tbody>\n",
       "    <tr>\n",
       "      <th>37302</th>\n",
       "      <td>flashback king obama commute sentence 22 drug ...</td>\n",
       "      <td>making room hillary president obama today anno...</td>\n",
       "      <td>politics</td>\n",
       "      <td>2015-03-31</td>\n",
       "      <td>True</td>\n",
       "      <td>-0.201587</td>\n",
       "    </tr>\n",
       "    <tr>\n",
       "      <th>37303</th>\n",
       "      <td>apple ceo say religious freedom law dangerous ...</td>\n",
       "      <td>gay mafia new corporate article need read shee...</td>\n",
       "      <td>politics</td>\n",
       "      <td>2015-03-31</td>\n",
       "      <td>True</td>\n",
       "      <td>-0.040032</td>\n",
       "    </tr>\n",
       "    <tr>\n",
       "      <th>37304</th>\n",
       "      <td>watch dirty harry reid lie romneys tax didnt win</td>\n",
       "      <td>case missed sen harry reid rnv announced last ...</td>\n",
       "      <td>politics</td>\n",
       "      <td>2015-03-31</td>\n",
       "      <td>True</td>\n",
       "      <td>0.150000</td>\n",
       "    </tr>\n",
       "    <tr>\n",
       "      <th>37305</th>\n",
       "      <td>oh guess funded shrine ted kennedy</td>\n",
       "      <td>nothing like political cronyism make stomach c...</td>\n",
       "      <td>politics</td>\n",
       "      <td>2015-03-31</td>\n",
       "      <td>True</td>\n",
       "      <td>0.122865</td>\n",
       "    </tr>\n",
       "    <tr>\n",
       "      <th>37306</th>\n",
       "      <td>benghazi panel call hillary testify oath white...</td>\n",
       "      <td>anyone really think hillary clinton come clean...</td>\n",
       "      <td>politics</td>\n",
       "      <td>2015-03-31</td>\n",
       "      <td>True</td>\n",
       "      <td>0.110586</td>\n",
       "    </tr>\n",
       "  </tbody>\n",
       "</table>\n",
       "</div>"
      ],
      "text/plain": [
       "                                                   title  \\\n",
       "37302  flashback king obama commute sentence 22 drug ...   \n",
       "37303  apple ceo say religious freedom law dangerous ...   \n",
       "37304   watch dirty harry reid lie romneys tax didnt win   \n",
       "37305                 oh guess funded shrine ted kennedy   \n",
       "37306  benghazi panel call hillary testify oath white...   \n",
       "\n",
       "                                                    text   subject       date  \\\n",
       "37302  making room hillary president obama today anno...  politics 2015-03-31   \n",
       "37303  gay mafia new corporate article need read shee...  politics 2015-03-31   \n",
       "37304  case missed sen harry reid rnv announced last ...  politics 2015-03-31   \n",
       "37305  nothing like political cronyism make stomach c...  politics 2015-03-31   \n",
       "37306  anyone really think hillary clinton come clean...  politics 2015-03-31   \n",
       "\n",
       "       is_fake  text_polarity  \n",
       "37302     True      -0.201587  \n",
       "37303     True      -0.040032  \n",
       "37304     True       0.150000  \n",
       "37305     True       0.122865  \n",
       "37306     True       0.110586  "
      ]
     },
     "execution_count": 22,
     "metadata": {},
     "output_type": "execute_result"
    }
   ],
   "source": [
    "articles_df.to_csv(\"articles.csv\")\n",
    "articles_df.head()"
   ]
  },
  {
   "cell_type": "code",
   "execution_count": null,
   "metadata": {},
   "outputs": [],
   "source": []
  }
 ],
 "metadata": {
  "kernelspec": {
   "display_name": "Python 3",
   "language": "python",
   "name": "python3"
  },
  "language_info": {
   "codemirror_mode": {
    "name": "ipython",
    "version": 3
   },
   "file_extension": ".py",
   "mimetype": "text/x-python",
   "name": "python",
   "nbconvert_exporter": "python",
   "pygments_lexer": "ipython3",
   "version": "3.8.5"
  }
 },
 "nbformat": 4,
 "nbformat_minor": 4
}
