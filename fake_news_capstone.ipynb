{
 "cells": [
  {
   "cell_type": "code",
   "execution_count": 1,
   "id": "special-miniature",
   "metadata": {
    "cell_id": "00000-583fceab-2062-436e-8e1d-c8b9fbe843fe",
    "deepnote_cell_type": "code",
    "deepnote_to_be_reexecuted": false,
    "execution_millis": 6,
    "execution_start": 1621522081250,
    "source_hash": "60c2cabd"
   },
   "outputs": [],
   "source": [
    "import env\n",
    "import pandas as pd\n",
    "import numpy as np\n",
    "import utilities as utils\n",
    "\n",
    "from wrangle import wrangle_articles\n",
    "from sklearn.feature_extraction.text import TfidfVectorizer\n",
    "from sklearn.model_selection import train_test_split\n",
    "from sklearn.linear_model import LogisticRegression\n",
    "from sklearn.metrics import classification_report, accuracy_score\n",
    "from sklearn.tree import DecisionTreeClassifier\n",
    "from sklearn.ensemble import RandomForestClassifier\n",
    "from sklearn.neighbors import KNeighborsClassifier\n",
    "from sklearn.ensemble import GradientBoostingClassifier\n",
    "from sklearn.tree import export_graphviz"
   ]
  },
  {
   "cell_type": "code",
   "execution_count": null,
   "id": "early-talent",
   "metadata": {
    "cell_id": "00035-23fff588-e25f-4567-9ebc-8c84bc7f3a38",
    "deepnote_cell_type": "code",
    "tags": []
   },
   "outputs": [],
   "source": [
    "# Run on first time or to renew csv files\n",
    "articles_df = wrangle_articles()"
   ]
  },
  {
   "cell_type": "code",
   "execution_count": 3,
   "id": "personal-double",
   "metadata": {
    "cell_id": "00035-23fff588-e25f-4567-9ebc-8c84bc7f3a38",
    "deepnote_cell_type": "code",
    "tags": []
   },
   "outputs": [],
   "source": [
    "articles_df.to_csv(\"articles.csv\")"
   ]
  },
  {
   "cell_type": "code",
   "execution_count": 4,
   "id": "enhanced-repeat",
   "metadata": {},
   "outputs": [
    {
     "data": {
      "text/html": [
       "<div>\n",
       "<style scoped>\n",
       "    .dataframe tbody tr th:only-of-type {\n",
       "        vertical-align: middle;\n",
       "    }\n",
       "\n",
       "    .dataframe tbody tr th {\n",
       "        vertical-align: top;\n",
       "    }\n",
       "\n",
       "    .dataframe thead th {\n",
       "        text-align: right;\n",
       "    }\n",
       "</style>\n",
       "<table border=\"1\" class=\"dataframe\">\n",
       "  <thead>\n",
       "    <tr style=\"text-align: right;\">\n",
       "      <th></th>\n",
       "      <th>title</th>\n",
       "      <th>text</th>\n",
       "      <th>subject</th>\n",
       "      <th>date</th>\n",
       "      <th>is_fake</th>\n",
       "      <th>clean_title</th>\n",
       "      <th>clean_text</th>\n",
       "      <th>title_polarity</th>\n",
       "      <th>title_subjectivity</th>\n",
       "      <th>text_polarity</th>\n",
       "      <th>text_subjectivity</th>\n",
       "    </tr>\n",
       "  </thead>\n",
       "  <tbody>\n",
       "    <tr>\n",
       "      <th>37302</th>\n",
       "      <td>FLASHBACK: KING OBAMA COMMUTES SENTENCES OF 22...</td>\n",
       "      <td>Just making room for Hillary President Obama t...</td>\n",
       "      <td>politics</td>\n",
       "      <td>2015-03-31</td>\n",
       "      <td>True</td>\n",
       "      <td>flashback king obama commute sentence 22 drug ...</td>\n",
       "      <td>making room hillary president obama today anno...</td>\n",
       "      <td>0.000000</td>\n",
       "      <td>0.000000</td>\n",
       "      <td>-0.201587</td>\n",
       "      <td>0.493452</td>\n",
       "    </tr>\n",
       "    <tr>\n",
       "      <th>37303</th>\n",
       "      <td>APPLE’S CEO SAYS RELIGIOUS FREEDOM LAWS ARE ‘D...</td>\n",
       "      <td>The gay mafia has a new corporate  Don. This i...</td>\n",
       "      <td>politics</td>\n",
       "      <td>2015-03-31</td>\n",
       "      <td>True</td>\n",
       "      <td>apple ceo say religious freedom law dangerous ...</td>\n",
       "      <td>gay mafia new corporate article need read shee...</td>\n",
       "      <td>0.058333</td>\n",
       "      <td>0.579167</td>\n",
       "      <td>-0.040032</td>\n",
       "      <td>0.582057</td>\n",
       "    </tr>\n",
       "    <tr>\n",
       "      <th>37304</th>\n",
       "      <td>WATCH DIRTY HARRY REID ON HIS LIE ABOUT ROMNEY...</td>\n",
       "      <td>In case you missed it Sen. Harry Reid (R-NV), ...</td>\n",
       "      <td>politics</td>\n",
       "      <td>2015-03-31</td>\n",
       "      <td>True</td>\n",
       "      <td>watch dirty harry reid lie romneys tax didnt win</td>\n",
       "      <td>case missed sen harry reid rnv announced last ...</td>\n",
       "      <td>0.100000</td>\n",
       "      <td>0.600000</td>\n",
       "      <td>0.150000</td>\n",
       "      <td>0.511111</td>\n",
       "    </tr>\n",
       "    <tr>\n",
       "      <th>37305</th>\n",
       "      <td>OH NO! GUESS WHO FUNDED THE SHRINE TO TED KENNEDY</td>\n",
       "      <td>Nothing like political cronyism to make your s...</td>\n",
       "      <td>politics</td>\n",
       "      <td>2015-03-31</td>\n",
       "      <td>True</td>\n",
       "      <td>oh guess funded shrine ted kennedy</td>\n",
       "      <td>nothing like political cronyism make stomach c...</td>\n",
       "      <td>0.000000</td>\n",
       "      <td>0.000000</td>\n",
       "      <td>0.122865</td>\n",
       "      <td>0.441116</td>\n",
       "    </tr>\n",
       "    <tr>\n",
       "      <th>37306</th>\n",
       "      <td>BENGHAZI PANEL CALLS HILLARY TO TESTIFY UNDER ...</td>\n",
       "      <td>Does anyone really think Hillary Clinton will ...</td>\n",
       "      <td>politics</td>\n",
       "      <td>2015-03-31</td>\n",
       "      <td>True</td>\n",
       "      <td>benghazi panel call hillary testify oath white...</td>\n",
       "      <td>anyone really think hillary clinton come clean...</td>\n",
       "      <td>0.000000</td>\n",
       "      <td>0.000000</td>\n",
       "      <td>0.110586</td>\n",
       "      <td>0.433784</td>\n",
       "    </tr>\n",
       "  </tbody>\n",
       "</table>\n",
       "</div>"
      ],
      "text/plain": [
       "                                                   title  \\\n",
       "37302  FLASHBACK: KING OBAMA COMMUTES SENTENCES OF 22...   \n",
       "37303  APPLE’S CEO SAYS RELIGIOUS FREEDOM LAWS ARE ‘D...   \n",
       "37304  WATCH DIRTY HARRY REID ON HIS LIE ABOUT ROMNEY...   \n",
       "37305  OH NO! GUESS WHO FUNDED THE SHRINE TO TED KENNEDY   \n",
       "37306  BENGHAZI PANEL CALLS HILLARY TO TESTIFY UNDER ...   \n",
       "\n",
       "                                                    text   subject       date  \\\n",
       "37302  Just making room for Hillary President Obama t...  politics 2015-03-31   \n",
       "37303  The gay mafia has a new corporate  Don. This i...  politics 2015-03-31   \n",
       "37304  In case you missed it Sen. Harry Reid (R-NV), ...  politics 2015-03-31   \n",
       "37305  Nothing like political cronyism to make your s...  politics 2015-03-31   \n",
       "37306  Does anyone really think Hillary Clinton will ...  politics 2015-03-31   \n",
       "\n",
       "       is_fake                                        clean_title  \\\n",
       "37302     True  flashback king obama commute sentence 22 drug ...   \n",
       "37303     True  apple ceo say religious freedom law dangerous ...   \n",
       "37304     True   watch dirty harry reid lie romneys tax didnt win   \n",
       "37305     True                 oh guess funded shrine ted kennedy   \n",
       "37306     True  benghazi panel call hillary testify oath white...   \n",
       "\n",
       "                                              clean_text  title_polarity  \\\n",
       "37302  making room hillary president obama today anno...        0.000000   \n",
       "37303  gay mafia new corporate article need read shee...        0.058333   \n",
       "37304  case missed sen harry reid rnv announced last ...        0.100000   \n",
       "37305  nothing like political cronyism make stomach c...        0.000000   \n",
       "37306  anyone really think hillary clinton come clean...        0.000000   \n",
       "\n",
       "       title_subjectivity  text_polarity  text_subjectivity  \n",
       "37302            0.000000      -0.201587           0.493452  \n",
       "37303            0.579167      -0.040032           0.582057  \n",
       "37304            0.600000       0.150000           0.511111  \n",
       "37305            0.000000       0.122865           0.441116  \n",
       "37306            0.000000       0.110586           0.433784  "
      ]
     },
     "execution_count": 4,
     "metadata": {},
     "output_type": "execute_result"
    }
   ],
   "source": [
    "articles_df.head(5)"
   ]
  },
  {
   "cell_type": "code",
   "execution_count": 5,
   "id": "excessive-medicare",
   "metadata": {},
   "outputs": [
    {
     "data": {
      "text/plain": [
       "(38651, 11)"
      ]
     },
     "execution_count": 5,
     "metadata": {},
     "output_type": "execute_result"
    }
   ],
   "source": [
    "articles_df.shape"
   ]
  },
  {
   "cell_type": "code",
   "execution_count": 6,
   "id": "patent-pantyhose",
   "metadata": {},
   "outputs": [
    {
     "name": "stdout",
     "output_type": "stream",
     "text": [
      "NaN values\n",
      "Empty DataFrame\n",
      "Columns: [rows, columns]\n",
      "Index: []\n",
      "--------------------------------\n",
      "Empty values\n",
      "Empty DataFrame\n",
      "Columns: [rows, columns]\n",
      "Index: []\n",
      "--------------------------------\n"
     ]
    },
    {
     "data": {
      "text/plain": [
       "{'nan_positions': (array([], dtype=int64), array([], dtype=int64)),\n",
       " 'empty_positions': (array([], dtype=int64), array([], dtype=int64))}"
      ]
     },
     "execution_count": 6,
     "metadata": {},
     "output_type": "execute_result"
    }
   ],
   "source": [
    "utils.nan_null_empty_check(articles_df)"
   ]
  },
  {
   "cell_type": "code",
   "execution_count": 7,
   "id": "computational-racing",
   "metadata": {},
   "outputs": [],
   "source": [
    "tfidf = TfidfVectorizer()\n",
    "\n",
    "X = tfidf.fit_transform(articles_df.clean_text)\n",
    "y = articles_df.is_fake"
   ]
  },
  {
   "cell_type": "code",
   "execution_count": 8,
   "id": "distinct-opportunity",
   "metadata": {},
   "outputs": [],
   "source": [
    "X_train_validate, X_test, y_train_validate, y_test = train_test_split(X, y, stratify=y, test_size=.2)\n",
    "\n",
    "X_train, X_validate, y_train, y_validate = train_test_split(X_train_validate, y_train_validate, stratify=y_train_validate, test_size=.3)"
   ]
  },
  {
   "cell_type": "code",
   "execution_count": 9,
   "id": "sticky-polish",
   "metadata": {},
   "outputs": [
    {
     "data": {
      "text/plain": [
       "((21644, 218347), (9276, 218347), (7731, 218347))"
      ]
     },
     "execution_count": 9,
     "metadata": {},
     "output_type": "execute_result"
    }
   ],
   "source": [
    "X_train.shape, X_validate.shape, X_test.shape"
   ]
  },
  {
   "cell_type": "code",
   "execution_count": 10,
   "id": "buried-medication",
   "metadata": {},
   "outputs": [
    {
     "data": {
      "text/plain": [
       "((21644,), (9276,), (7731,))"
      ]
     },
     "execution_count": 10,
     "metadata": {},
     "output_type": "execute_result"
    }
   ],
   "source": [
    "y_train.shape, y_validate.shape, y_test.shape"
   ]
  },
  {
   "cell_type": "code",
   "execution_count": 11,
   "id": "gross-december",
   "metadata": {},
   "outputs": [],
   "source": [
    "train = pd.DataFrame(dict(actual=y_train))\n",
    "validate = pd.DataFrame(dict(actual=y_validate))\n",
    "test = pd.DataFrame(dict(actual=y_test))"
   ]
  },
  {
   "cell_type": "markdown",
   "id": "english-curtis",
   "metadata": {},
   "source": [
    "# Establish baseline model"
   ]
  },
  {
   "cell_type": "code",
   "execution_count": 12,
   "id": "cubic-reputation",
   "metadata": {},
   "outputs": [
    {
     "data": {
      "text/plain": [
       "False    21196\n",
       "True     17455\n",
       "Name: is_fake, dtype: int64"
      ]
     },
     "execution_count": 12,
     "metadata": {},
     "output_type": "execute_result"
    }
   ],
   "source": [
    "articles_df.is_fake.value_counts()"
   ]
  },
  {
   "cell_type": "code",
   "execution_count": 13,
   "id": "composed-radar",
   "metadata": {},
   "outputs": [],
   "source": [
    "train['baseline_predicted'] = False\n",
    "validate['baseline_predicted'] = False\n",
    "test['baseline_predicted'] = False"
   ]
  },
  {
   "cell_type": "code",
   "execution_count": 14,
   "id": "vertical-sucking",
   "metadata": {},
   "outputs": [
    {
     "name": "stdout",
     "output_type": "stream",
     "text": [
      "Accuracy: 54.84%\n",
      "---\n",
      "Confusion Matrix\n",
      "actual              False  True \n",
      "baseline_predicted              \n",
      "False               11869   9775\n",
      "---\n",
      "              precision    recall  f1-score   support\n",
      "\n",
      "       False       0.55      1.00      0.71     11869\n",
      "        True       0.00      0.00      0.00      9775\n",
      "\n",
      "    accuracy                           0.55     21644\n",
      "   macro avg       0.27      0.50      0.35     21644\n",
      "weighted avg       0.30      0.55      0.39     21644\n",
      "\n"
     ]
    }
   ],
   "source": [
    "utils.print_model_evaluation(train, 'baseline_predicted')"
   ]
  },
  {
   "cell_type": "markdown",
   "id": "adaptive-bishop",
   "metadata": {},
   "source": [
    "Baseline accuracy of 55% using True as default prediction for is_fake"
   ]
  },
  {
   "cell_type": "markdown",
   "id": "detected-recognition",
   "metadata": {},
   "source": [
    "# Logistic Regression"
   ]
  },
  {
   "cell_type": "code",
   "execution_count": 15,
   "id": "muslim-vegetable",
   "metadata": {},
   "outputs": [],
   "source": [
    "lm = LogisticRegression().fit(X_train, y_train)\n",
    "\n",
    "train['log_predicted'] = lm.predict(X_train)\n",
    "validate['log_predicted'] = lm.predict(X_validate)"
   ]
  },
  {
   "cell_type": "code",
   "execution_count": 16,
   "id": "blind-purse",
   "metadata": {},
   "outputs": [
    {
     "name": "stdout",
     "output_type": "stream",
     "text": [
      "Accuracy: 98.62%\n",
      "---\n",
      "Confusion Matrix\n",
      "actual         False  True \n",
      "log_predicted              \n",
      "False          11774    203\n",
      "True              95   9572\n",
      "---\n",
      "              precision    recall  f1-score   support\n",
      "\n",
      "       False       0.98      0.99      0.99     11869\n",
      "        True       0.99      0.98      0.98      9775\n",
      "\n",
      "    accuracy                           0.99     21644\n",
      "   macro avg       0.99      0.99      0.99     21644\n",
      "weighted avg       0.99      0.99      0.99     21644\n",
      "\n"
     ]
    }
   ],
   "source": [
    "utils.print_model_evaluation(train, 'log_predicted')"
   ]
  },
  {
   "cell_type": "code",
   "execution_count": 17,
   "id": "fixed-highway",
   "metadata": {},
   "outputs": [
    {
     "name": "stdout",
     "output_type": "stream",
     "text": [
      "Accuracy: 98.02%\n",
      "---\n",
      "Confusion Matrix\n",
      "actual         False  True \n",
      "log_predicted              \n",
      "False           5020    117\n",
      "True              67   4072\n",
      "---\n",
      "              precision    recall  f1-score   support\n",
      "\n",
      "       False       0.98      0.99      0.98      5087\n",
      "        True       0.98      0.97      0.98      4189\n",
      "\n",
      "    accuracy                           0.98      9276\n",
      "   macro avg       0.98      0.98      0.98      9276\n",
      "weighted avg       0.98      0.98      0.98      9276\n",
      "\n"
     ]
    }
   ],
   "source": [
    "utils.print_model_evaluation(validate, 'log_predicted')"
   ]
  },
  {
   "cell_type": "markdown",
   "id": "unlikely-generic",
   "metadata": {},
   "source": [
    "# Decision Tree"
   ]
  },
  {
   "cell_type": "code",
   "execution_count": 18,
   "id": "purple-forum",
   "metadata": {},
   "outputs": [],
   "source": [
    "dcn_tree = DecisionTreeClassifier(max_depth=7, random_state=1414)\n",
    "dcn_tree = dcn_tree.fit(X_train, y_train)\n",
    "\n",
    "train['dcn_tree_predicted'] = dcn_tree.predict(X_train)\n",
    "validate['dcn_tree_predicted'] = dcn_tree.predict(X_validate)"
   ]
  },
  {
   "cell_type": "code",
   "execution_count": 19,
   "id": "defined-adobe",
   "metadata": {},
   "outputs": [
    {
     "name": "stdout",
     "output_type": "stream",
     "text": [
      "Accuracy: 91.49%\n",
      "---\n",
      "Confusion Matrix\n",
      "actual              False  True \n",
      "dcn_tree_predicted              \n",
      "False               11208   1180\n",
      "True                  661   8595\n",
      "---\n",
      "              precision    recall  f1-score   support\n",
      "\n",
      "       False       0.90      0.94      0.92     11869\n",
      "        True       0.93      0.88      0.90      9775\n",
      "\n",
      "    accuracy                           0.91     21644\n",
      "   macro avg       0.92      0.91      0.91     21644\n",
      "weighted avg       0.92      0.91      0.91     21644\n",
      "\n"
     ]
    }
   ],
   "source": [
    "utils.print_model_evaluation(train, 'dcn_tree_predicted')"
   ]
  },
  {
   "cell_type": "code",
   "execution_count": 20,
   "id": "pregnant-unemployment",
   "metadata": {},
   "outputs": [
    {
     "name": "stdout",
     "output_type": "stream",
     "text": [
      "Accuracy: 90.14%\n",
      "---\n",
      "Confusion Matrix\n",
      "actual              False  True \n",
      "dcn_tree_predicted              \n",
      "False                4744    572\n",
      "True                  343   3617\n",
      "---\n",
      "              precision    recall  f1-score   support\n",
      "\n",
      "       False       0.89      0.93      0.91      5087\n",
      "        True       0.91      0.86      0.89      4189\n",
      "\n",
      "    accuracy                           0.90      9276\n",
      "   macro avg       0.90      0.90      0.90      9276\n",
      "weighted avg       0.90      0.90      0.90      9276\n",
      "\n"
     ]
    }
   ],
   "source": [
    "utils.print_model_evaluation(validate, 'dcn_tree_predicted')"
   ]
  },
  {
   "cell_type": "markdown",
   "id": "better-perth",
   "metadata": {},
   "source": [
    "# Random Forest"
   ]
  },
  {
   "cell_type": "code",
   "execution_count": 21,
   "id": "rising-sociology",
   "metadata": {},
   "outputs": [],
   "source": [
    "rand_forest = RandomForestClassifier(bootstrap=True, class_weight=\"balanced\", criterion='gini', min_samples_leaf=3, \\\n",
    "                                     n_estimators=100, max_depth=15, random_state=1414)\n",
    "rand_forest = rand_forest.fit(X_train, y_train)\n",
    "\n",
    "train['rand_forest_predicted'] = rand_forest.predict(X_train)\n",
    "validate['rand_forest_predicted'] = rand_forest.predict(X_validate)"
   ]
  },
  {
   "cell_type": "code",
   "execution_count": 22,
   "id": "popular-network",
   "metadata": {},
   "outputs": [
    {
     "name": "stdout",
     "output_type": "stream",
     "text": [
      "Accuracy: 96.09%\n",
      "---\n",
      "Confusion Matrix\n",
      "actual                 False  True \n",
      "rand_forest_predicted              \n",
      "False                  11667    645\n",
      "True                     202   9130\n",
      "---\n",
      "              precision    recall  f1-score   support\n",
      "\n",
      "       False       0.95      0.98      0.96     11869\n",
      "        True       0.98      0.93      0.96      9775\n",
      "\n",
      "    accuracy                           0.96     21644\n",
      "   macro avg       0.96      0.96      0.96     21644\n",
      "weighted avg       0.96      0.96      0.96     21644\n",
      "\n"
     ]
    }
   ],
   "source": [
    "utils.print_model_evaluation(train, 'rand_forest_predicted')"
   ]
  },
  {
   "cell_type": "code",
   "execution_count": 23,
   "id": "proper-neighborhood",
   "metadata": {},
   "outputs": [
    {
     "name": "stdout",
     "output_type": "stream",
     "text": [
      "Accuracy: 94.91%\n",
      "---\n",
      "Confusion Matrix\n",
      "actual                 False  True \n",
      "rand_forest_predicted              \n",
      "False                   4951    336\n",
      "True                     136   3853\n",
      "---\n",
      "              precision    recall  f1-score   support\n",
      "\n",
      "       False       0.94      0.97      0.95      5087\n",
      "        True       0.97      0.92      0.94      4189\n",
      "\n",
      "    accuracy                           0.95      9276\n",
      "   macro avg       0.95      0.95      0.95      9276\n",
      "weighted avg       0.95      0.95      0.95      9276\n",
      "\n"
     ]
    }
   ],
   "source": [
    "utils.print_model_evaluation(validate, 'rand_forest_predicted')"
   ]
  },
  {
   "cell_type": "markdown",
   "id": "challenging-faith",
   "metadata": {},
   "source": [
    "# K Nearest Neighbors"
   ]
  },
  {
   "cell_type": "code",
   "execution_count": 24,
   "id": "precious-resolution",
   "metadata": {},
   "outputs": [],
   "source": [
    "knn = KNeighborsClassifier(n_neighbors=5, weights='uniform')\n",
    "knn = knn.fit(X_train, y_train)\n",
    "\n",
    "train['knn_predicted'] = knn.predict(X_train)\n",
    "validate['knn_predicted'] = knn.predict(X_validate)"
   ]
  },
  {
   "cell_type": "code",
   "execution_count": 25,
   "id": "abstract-geneva",
   "metadata": {},
   "outputs": [
    {
     "name": "stdout",
     "output_type": "stream",
     "text": [
      "Accuracy: 88.66%\n",
      "---\n",
      "Confusion Matrix\n",
      "actual         False  True \n",
      "knn_predicted              \n",
      "False          11551   2136\n",
      "True             318   7639\n",
      "---\n",
      "              precision    recall  f1-score   support\n",
      "\n",
      "       False       0.84      0.97      0.90     11869\n",
      "        True       0.96      0.78      0.86      9775\n",
      "\n",
      "    accuracy                           0.89     21644\n",
      "   macro avg       0.90      0.88      0.88     21644\n",
      "weighted avg       0.90      0.89      0.88     21644\n",
      "\n"
     ]
    }
   ],
   "source": [
    "utils.print_model_evaluation(train, 'knn_predicted')"
   ]
  },
  {
   "cell_type": "code",
   "execution_count": 26,
   "id": "surprising-optics",
   "metadata": {},
   "outputs": [
    {
     "name": "stdout",
     "output_type": "stream",
     "text": [
      "Accuracy: 84.22%\n",
      "---\n",
      "Confusion Matrix\n",
      "actual         False  True \n",
      "knn_predicted              \n",
      "False           4881   1258\n",
      "True             206   2931\n",
      "---\n",
      "              precision    recall  f1-score   support\n",
      "\n",
      "       False       0.80      0.96      0.87      5087\n",
      "        True       0.93      0.70      0.80      4189\n",
      "\n",
      "    accuracy                           0.84      9276\n",
      "   macro avg       0.86      0.83      0.83      9276\n",
      "weighted avg       0.86      0.84      0.84      9276\n",
      "\n"
     ]
    }
   ],
   "source": [
    "utils.print_model_evaluation(validate, 'knn_predicted')"
   ]
  },
  {
   "cell_type": "markdown",
   "id": "fitted-silver",
   "metadata": {},
   "source": [
    "# MVP"
   ]
  },
  {
   "cell_type": "code",
   "execution_count": 27,
   "id": "modified-victoria",
   "metadata": {},
   "outputs": [],
   "source": [
    "test['log_predicted'] = lm.predict(X_test)"
   ]
  },
  {
   "cell_type": "code",
   "execution_count": 28,
   "id": "outer-grave",
   "metadata": {},
   "outputs": [
    {
     "name": "stdout",
     "output_type": "stream",
     "text": [
      "Accuracy: 97.68%\n",
      "---\n",
      "Confusion Matrix\n",
      "actual         False  True \n",
      "log_predicted              \n",
      "False           4180    119\n",
      "True              60   3372\n",
      "---\n",
      "              precision    recall  f1-score   support\n",
      "\n",
      "       False       0.97      0.99      0.98      4240\n",
      "        True       0.98      0.97      0.97      3491\n",
      "\n",
      "    accuracy                           0.98      7731\n",
      "   macro avg       0.98      0.98      0.98      7731\n",
      "weighted avg       0.98      0.98      0.98      7731\n",
      "\n"
     ]
    }
   ],
   "source": [
    "utils.print_model_evaluation(test, 'log_predicted')"
   ]
  },
  {
   "cell_type": "code",
   "execution_count": null,
   "id": "coated-wellington",
   "metadata": {},
   "outputs": [],
   "source": []
  }
 ],
 "metadata": {
  "deepnote": {},
  "deepnote_execution_queue": [],
  "deepnote_notebook_id": "b697d2a8-f448-40c8-aec2-38eff54d516e",
  "kernelspec": {
   "display_name": "Python 3",
   "language": "python",
   "name": "python3"
  },
  "language_info": {
   "codemirror_mode": {
    "name": "ipython",
    "version": 3
   },
   "file_extension": ".py",
   "mimetype": "text/x-python",
   "name": "python",
   "nbconvert_exporter": "python",
   "pygments_lexer": "ipython3",
   "version": "3.8.5"
  }
 },
 "nbformat": 4,
 "nbformat_minor": 5
}
