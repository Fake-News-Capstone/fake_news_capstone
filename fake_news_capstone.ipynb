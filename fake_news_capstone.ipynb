{
 "cells": [
  {
   "cell_type": "code",
   "execution_count": 73,
   "id": "rising-islam",
   "metadata": {
    "cell_id": "00000-583fceab-2062-436e-8e1d-c8b9fbe843fe",
    "deepnote_cell_type": "code",
    "deepnote_to_be_reexecuted": false,
    "execution_millis": 6,
    "execution_start": 1621522081250,
    "source_hash": "60c2cabd"
   },
   "outputs": [],
   "source": [
    "import env\n",
    "import pandas as pd\n",
    "import numpy as np\n",
    "import utilities as utils\n",
    "\n",
    "from wrangle import wrangle_articles\n",
    "from sklearn.feature_extraction.text import TfidfVectorizer\n",
    "from sklearn.model_selection import train_test_split\n",
    "from sklearn.linear_model import LogisticRegression\n",
    "from sklearn.metrics import classification_report, accuracy_score\n",
    "from sklearn.tree import DecisionTreeClassifier\n",
    "from sklearn.ensemble import RandomForestClassifier\n",
    "from sklearn.neighbors import KNeighborsClassifier\n",
    "from sklearn.tree import export_graphviz"
   ]
  },
  {
   "cell_type": "code",
   "execution_count": 2,
   "id": "injured-plane",
   "metadata": {
    "cell_id": "00035-23fff588-e25f-4567-9ebc-8c84bc7f3a38",
    "deepnote_cell_type": "code",
    "tags": []
   },
   "outputs": [
    {
     "name": "stdout",
     "output_type": "stream",
     "text": [
      "NaN values\n",
      "Empty DataFrame\n",
      "Columns: [rows, columns]\n",
      "Index: []\n",
      "--------------------------------\n",
      "Empty values\n",
      "       rows  columns\n",
      "0       120        1\n",
      "1       120        6\n",
      "2       122        1\n",
      "3       122        6\n",
      "4       152        1\n",
      "...     ...      ...\n",
      "1258  25152        6\n",
      "1259  25701        1\n",
      "1260  25701        6\n",
      "1261  25746        1\n",
      "1262  25746        6\n",
      "\n",
      "[1263 rows x 2 columns]\n",
      "--------------------------------\n"
     ]
    }
   ],
   "source": [
    "# Run on first time or to renew csv files\n",
    "all_articles_df, only_articles_with_text_df = wrangle_articles()\n",
    "\n",
    "all_articles_df.to_csv(\"all_articles.csv\", index_label='index')\n",
    "only_articles_with_text_df.to_csv(\"only_articles_with_text.csv\", index_label='index')"
   ]
  },
  {
   "cell_type": "code",
   "execution_count": 3,
   "id": "intimate-invite",
   "metadata": {},
   "outputs": [
    {
     "data": {
      "text/html": [
       "<div>\n",
       "<style scoped>\n",
       "    .dataframe tbody tr th:only-of-type {\n",
       "        vertical-align: middle;\n",
       "    }\n",
       "\n",
       "    .dataframe tbody tr th {\n",
       "        vertical-align: top;\n",
       "    }\n",
       "\n",
       "    .dataframe thead th {\n",
       "        text-align: right;\n",
       "    }\n",
       "</style>\n",
       "<table border=\"1\" class=\"dataframe\">\n",
       "  <thead>\n",
       "    <tr style=\"text-align: right;\">\n",
       "      <th></th>\n",
       "      <th>title</th>\n",
       "      <th>text</th>\n",
       "      <th>subject</th>\n",
       "      <th>date</th>\n",
       "      <th>is_fake</th>\n",
       "      <th>clean_title</th>\n",
       "      <th>clean_text</th>\n",
       "    </tr>\n",
       "  </thead>\n",
       "  <tbody>\n",
       "    <tr>\n",
       "      <th>37302</th>\n",
       "      <td>FLASHBACK: KING OBAMA COMMUTES SENTENCES OF 22...</td>\n",
       "      <td>Just making room for Hillary President Obama t...</td>\n",
       "      <td>politics</td>\n",
       "      <td>2015-03-31</td>\n",
       "      <td>True</td>\n",
       "      <td>flashback king obama commute sentence 22 drug ...</td>\n",
       "      <td>making room hillary president obama today anno...</td>\n",
       "    </tr>\n",
       "    <tr>\n",
       "      <th>37303</th>\n",
       "      <td>APPLE’S CEO SAYS RELIGIOUS FREEDOM LAWS ARE ‘D...</td>\n",
       "      <td>The gay mafia has a new corporate  Don. This i...</td>\n",
       "      <td>politics</td>\n",
       "      <td>2015-03-31</td>\n",
       "      <td>True</td>\n",
       "      <td>apple ceo say religious freedom law dangerous ...</td>\n",
       "      <td>gay mafia new corporate article need read shee...</td>\n",
       "    </tr>\n",
       "    <tr>\n",
       "      <th>37304</th>\n",
       "      <td>WATCH DIRTY HARRY REID ON HIS LIE ABOUT ROMNEY...</td>\n",
       "      <td>In case you missed it Sen. Harry Reid (R-NV), ...</td>\n",
       "      <td>politics</td>\n",
       "      <td>2015-03-31</td>\n",
       "      <td>True</td>\n",
       "      <td>watch dirty harry reid lie romneys tax didnt win</td>\n",
       "      <td>case missed sen harry reid rnv announced last ...</td>\n",
       "    </tr>\n",
       "    <tr>\n",
       "      <th>37305</th>\n",
       "      <td>OH NO! GUESS WHO FUNDED THE SHRINE TO TED KENNEDY</td>\n",
       "      <td>Nothing like political cronyism to make your s...</td>\n",
       "      <td>politics</td>\n",
       "      <td>2015-03-31</td>\n",
       "      <td>True</td>\n",
       "      <td>oh guess funded shrine ted kennedy</td>\n",
       "      <td>nothing like political cronyism make stomach c...</td>\n",
       "    </tr>\n",
       "    <tr>\n",
       "      <th>37306</th>\n",
       "      <td>BENGHAZI PANEL CALLS HILLARY TO TESTIFY UNDER ...</td>\n",
       "      <td>Does anyone really think Hillary Clinton will ...</td>\n",
       "      <td>politics</td>\n",
       "      <td>2015-03-31</td>\n",
       "      <td>True</td>\n",
       "      <td>benghazi panel call hillary testify oath white...</td>\n",
       "      <td>anyone really think hillary clinton come clean...</td>\n",
       "    </tr>\n",
       "  </tbody>\n",
       "</table>\n",
       "</div>"
      ],
      "text/plain": [
       "                                                   title  \\\n",
       "37302  FLASHBACK: KING OBAMA COMMUTES SENTENCES OF 22...   \n",
       "37303  APPLE’S CEO SAYS RELIGIOUS FREEDOM LAWS ARE ‘D...   \n",
       "37304  WATCH DIRTY HARRY REID ON HIS LIE ABOUT ROMNEY...   \n",
       "37305  OH NO! GUESS WHO FUNDED THE SHRINE TO TED KENNEDY   \n",
       "37306  BENGHAZI PANEL CALLS HILLARY TO TESTIFY UNDER ...   \n",
       "\n",
       "                                                    text   subject       date  \\\n",
       "37302  Just making room for Hillary President Obama t...  politics 2015-03-31   \n",
       "37303  The gay mafia has a new corporate  Don. This i...  politics 2015-03-31   \n",
       "37304  In case you missed it Sen. Harry Reid (R-NV), ...  politics 2015-03-31   \n",
       "37305  Nothing like political cronyism to make your s...  politics 2015-03-31   \n",
       "37306  Does anyone really think Hillary Clinton will ...  politics 2015-03-31   \n",
       "\n",
       "       is_fake                                        clean_title  \\\n",
       "37302     True  flashback king obama commute sentence 22 drug ...   \n",
       "37303     True  apple ceo say religious freedom law dangerous ...   \n",
       "37304     True   watch dirty harry reid lie romneys tax didnt win   \n",
       "37305     True                 oh guess funded shrine ted kennedy   \n",
       "37306     True  benghazi panel call hillary testify oath white...   \n",
       "\n",
       "                                              clean_text  \n",
       "37302  making room hillary president obama today anno...  \n",
       "37303  gay mafia new corporate article need read shee...  \n",
       "37304  case missed sen harry reid rnv announced last ...  \n",
       "37305  nothing like political cronyism make stomach c...  \n",
       "37306  anyone really think hillary clinton come clean...  "
      ]
     },
     "execution_count": 3,
     "metadata": {},
     "output_type": "execute_result"
    }
   ],
   "source": [
    "all_articles_df.head(5)"
   ]
  },
  {
   "cell_type": "code",
   "execution_count": 8,
   "id": "going-wisconsin",
   "metadata": {},
   "outputs": [],
   "source": [
    "tfidf = TfidfVectorizer()\n",
    "\n",
    "X = tfidf.fit_transform(only_articles_with_text_df.clean_text)\n",
    "y = only_articles_with_text_df.is_fake"
   ]
  },
  {
   "cell_type": "code",
   "execution_count": 9,
   "id": "chicken-compromise",
   "metadata": {},
   "outputs": [],
   "source": [
    "X_train_validate, X_test, y_train_validate, y_test = train_test_split(X, y, stratify=y, test_size=.2)\n",
    "\n",
    "X_train, X_validate, y_train, y_validate = train_test_split(X_train_validate, y_train_validate, stratify=y_train_validate, test_size=.3)"
   ]
  },
  {
   "cell_type": "code",
   "execution_count": 10,
   "id": "continuous-racing",
   "metadata": {},
   "outputs": [
    {
     "data": {
      "text/plain": [
       "((24782, 216476), (10622, 216476), (8852, 216476))"
      ]
     },
     "execution_count": 10,
     "metadata": {},
     "output_type": "execute_result"
    }
   ],
   "source": [
    "X_train.shape, X_validate.shape, X_test.shape"
   ]
  },
  {
   "cell_type": "code",
   "execution_count": 11,
   "id": "pretty-moment",
   "metadata": {},
   "outputs": [
    {
     "data": {
      "text/plain": [
       "((24782,), (10622,), (8852,))"
      ]
     },
     "execution_count": 11,
     "metadata": {},
     "output_type": "execute_result"
    }
   ],
   "source": [
    "y_train.shape, y_validate.shape, y_test.shape"
   ]
  },
  {
   "cell_type": "code",
   "execution_count": 12,
   "id": "weekly-triumph",
   "metadata": {},
   "outputs": [],
   "source": [
    "train = pd.DataFrame(dict(actual=y_train))\n",
    "validate = pd.DataFrame(dict(actual=y_validate))\n",
    "test = pd.DataFrame(dict(actual=y_test))"
   ]
  },
  {
   "cell_type": "markdown",
   "id": "oriented-election",
   "metadata": {},
   "source": [
    "# Establish baseline model"
   ]
  },
  {
   "cell_type": "code",
   "execution_count": 13,
   "id": "round-london",
   "metadata": {},
   "outputs": [],
   "source": [
    "train['baseline_predicted'] = True\n",
    "validate['baseline_predicted'] = True\n",
    "test['baseline_predicted'] = True"
   ]
  },
  {
   "cell_type": "code",
   "execution_count": 18,
   "id": "practical-signature",
   "metadata": {},
   "outputs": [
    {
     "name": "stdout",
     "output_type": "stream",
     "text": [
      "Accuracy: 52.66%\n",
      "---\n",
      "Confusion Matrix\n",
      "actual              False  True \n",
      "baseline_predicted              \n",
      "True                11732  13050\n",
      "---\n",
      "              precision    recall  f1-score   support\n",
      "\n",
      "       False       0.00      0.00      0.00     11732\n",
      "        True       0.53      1.00      0.69     13050\n",
      "\n",
      "    accuracy                           0.53     24782\n",
      "   macro avg       0.26      0.50      0.34     24782\n",
      "weighted avg       0.28      0.53      0.36     24782\n",
      "\n"
     ]
    }
   ],
   "source": [
    "utils.print_model_evaluation(train, 'baseline_predicted')"
   ]
  },
  {
   "cell_type": "markdown",
   "id": "determined-trial",
   "metadata": {},
   "source": [
    "Baseline accuracy of 52.7% using True as default prediction for is_fake"
   ]
  },
  {
   "cell_type": "markdown",
   "id": "fantastic-orlando",
   "metadata": {},
   "source": [
    "# Logistic Regression"
   ]
  },
  {
   "cell_type": "code",
   "execution_count": 119,
   "id": "toxic-communications",
   "metadata": {},
   "outputs": [],
   "source": [
    "lm = LogisticRegression().fit(X_train, y_train)\n",
    "\n",
    "train['log_predicted'] = lm.predict(X_train)\n",
    "validate['log_predicted'] = lm.predict(X_validate)"
   ]
  },
  {
   "cell_type": "code",
   "execution_count": 120,
   "id": "clear-platform",
   "metadata": {},
   "outputs": [
    {
     "name": "stdout",
     "output_type": "stream",
     "text": [
      "Accuracy: 98.69%\n",
      "---\n",
      "Confusion Matrix\n",
      "actual         False  True \n",
      "log_predicted              \n",
      "False          11581    173\n",
      "True             151  12877\n",
      "---\n",
      "              precision    recall  f1-score   support\n",
      "\n",
      "       False       0.99      0.99      0.99     11732\n",
      "        True       0.99      0.99      0.99     13050\n",
      "\n",
      "    accuracy                           0.99     24782\n",
      "   macro avg       0.99      0.99      0.99     24782\n",
      "weighted avg       0.99      0.99      0.99     24782\n",
      "\n"
     ]
    }
   ],
   "source": [
    "utils.print_model_evaluation(train, 'log_predicted')"
   ]
  },
  {
   "cell_type": "code",
   "execution_count": 121,
   "id": "alternative-result",
   "metadata": {},
   "outputs": [
    {
     "name": "stdout",
     "output_type": "stream",
     "text": [
      "Accuracy: 97.89%\n",
      "---\n",
      "Confusion Matrix\n",
      "actual         False  True \n",
      "log_predicted              \n",
      "False           4930    126\n",
      "True              98   5468\n",
      "---\n",
      "              precision    recall  f1-score   support\n",
      "\n",
      "       False       0.98      0.98      0.98      5028\n",
      "        True       0.98      0.98      0.98      5594\n",
      "\n",
      "    accuracy                           0.98     10622\n",
      "   macro avg       0.98      0.98      0.98     10622\n",
      "weighted avg       0.98      0.98      0.98     10622\n",
      "\n"
     ]
    }
   ],
   "source": [
    "utils.print_model_evaluation(validate, 'log_predicted')"
   ]
  },
  {
   "cell_type": "markdown",
   "id": "jewish-holocaust",
   "metadata": {},
   "source": [
    "# Decision Tree"
   ]
  },
  {
   "cell_type": "code",
   "execution_count": 45,
   "id": "compact-malaysia",
   "metadata": {},
   "outputs": [],
   "source": [
    "dcn_tree = DecisionTreeClassifier(max_depth=7, random_state=1414)\n",
    "dcn_tree = dcn_tree.fit(X_train, y_train)\n",
    "\n",
    "train['dcn_tree_predicted'] = dcn_tree.predict(X_train)\n",
    "validate['dcn_tree_predicted'] = dcn_tree.predict(X_validate)"
   ]
  },
  {
   "cell_type": "code",
   "execution_count": 46,
   "id": "discrete-corporation",
   "metadata": {},
   "outputs": [
    {
     "name": "stdout",
     "output_type": "stream",
     "text": [
      "Accuracy: 90.96%\n",
      "---\n",
      "Confusion Matrix\n",
      "actual              False  True \n",
      "dcn_tree_predicted              \n",
      "False               10755   1263\n",
      "True                  977  11787\n",
      "---\n",
      "              precision    recall  f1-score   support\n",
      "\n",
      "       False       0.89      0.92      0.91     11732\n",
      "        True       0.92      0.90      0.91     13050\n",
      "\n",
      "    accuracy                           0.91     24782\n",
      "   macro avg       0.91      0.91      0.91     24782\n",
      "weighted avg       0.91      0.91      0.91     24782\n",
      "\n"
     ]
    }
   ],
   "source": [
    "utils.print_model_evaluation(train, 'dcn_tree_predicted')"
   ]
  },
  {
   "cell_type": "code",
   "execution_count": 47,
   "id": "agreed-venue",
   "metadata": {},
   "outputs": [
    {
     "name": "stdout",
     "output_type": "stream",
     "text": [
      "Accuracy: 89.85%\n",
      "---\n",
      "Confusion Matrix\n",
      "actual              False  True \n",
      "dcn_tree_predicted              \n",
      "False                4525    575\n",
      "True                  503   5019\n",
      "---\n",
      "              precision    recall  f1-score   support\n",
      "\n",
      "       False       0.89      0.90      0.89      5028\n",
      "        True       0.91      0.90      0.90      5594\n",
      "\n",
      "    accuracy                           0.90     10622\n",
      "   macro avg       0.90      0.90      0.90     10622\n",
      "weighted avg       0.90      0.90      0.90     10622\n",
      "\n"
     ]
    }
   ],
   "source": [
    "utils.print_model_evaluation(validate, 'dcn_tree_predicted')"
   ]
  },
  {
   "cell_type": "markdown",
   "id": "previous-stuart",
   "metadata": {},
   "source": [
    "# Random Forest"
   ]
  },
  {
   "cell_type": "code",
   "execution_count": 95,
   "id": "front-webster",
   "metadata": {},
   "outputs": [],
   "source": [
    "rand_forest = RandomForestClassifier(bootstrap=True, class_weight=\"balanced\", criterion='gini', min_samples_leaf=3, \\\n",
    "                                     n_estimators=100, max_depth=15, random_state=1414)\n",
    "rand_forest = rand_forest.fit(X_train, y_train)\n",
    "\n",
    "train['rand_forest_predicted'] = rand_forest.predict(X_train)\n",
    "validate['rand_forest_predicted'] = rand_forest.predict(X_validate)"
   ]
  },
  {
   "cell_type": "code",
   "execution_count": 96,
   "id": "surface-noise",
   "metadata": {},
   "outputs": [
    {
     "name": "stdout",
     "output_type": "stream",
     "text": [
      "Accuracy: 96.92%\n",
      "---\n",
      "Confusion Matrix\n",
      "actual                 False  True \n",
      "rand_forest_predicted              \n",
      "False                  11429    460\n",
      "True                     303  12590\n",
      "---\n",
      "              precision    recall  f1-score   support\n",
      "\n",
      "       False       0.96      0.97      0.97     11732\n",
      "        True       0.98      0.96      0.97     13050\n",
      "\n",
      "    accuracy                           0.97     24782\n",
      "   macro avg       0.97      0.97      0.97     24782\n",
      "weighted avg       0.97      0.97      0.97     24782\n",
      "\n"
     ]
    }
   ],
   "source": [
    "utils.print_model_evaluation(train, 'rand_forest_predicted')"
   ]
  },
  {
   "cell_type": "code",
   "execution_count": 97,
   "id": "daily-state",
   "metadata": {},
   "outputs": [
    {
     "name": "stdout",
     "output_type": "stream",
     "text": [
      "Accuracy: 95.59%\n",
      "---\n",
      "Confusion Matrix\n",
      "actual                 False  True \n",
      "rand_forest_predicted              \n",
      "False                   4859    299\n",
      "True                     169   5295\n",
      "---\n",
      "              precision    recall  f1-score   support\n",
      "\n",
      "       False       0.94      0.97      0.95      5028\n",
      "        True       0.97      0.95      0.96      5594\n",
      "\n",
      "    accuracy                           0.96     10622\n",
      "   macro avg       0.96      0.96      0.96     10622\n",
      "weighted avg       0.96      0.96      0.96     10622\n",
      "\n"
     ]
    }
   ],
   "source": [
    "utils.print_model_evaluation(validate, 'rand_forest_predicted')"
   ]
  },
  {
   "cell_type": "markdown",
   "id": "perfect-schema",
   "metadata": {},
   "source": [
    "# K Nearest Neighbors"
   ]
  },
  {
   "cell_type": "code",
   "execution_count": 113,
   "id": "attempted-imaging",
   "metadata": {},
   "outputs": [],
   "source": [
    "knn = KNeighborsClassifier(n_neighbors=5, weights='uniform')\n",
    "knn = knn.fit(X_train, y_train)\n",
    "\n",
    "train['knn_predicted'] = knn.predict(X_train)\n",
    "validate['knn_predicted'] = knn.predict(X_validate)"
   ]
  },
  {
   "cell_type": "code",
   "execution_count": 114,
   "id": "european-implementation",
   "metadata": {},
   "outputs": [
    {
     "name": "stdout",
     "output_type": "stream",
     "text": [
      "Accuracy: 66.06%\n",
      "---\n",
      "Confusion Matrix\n",
      "actual         False  True \n",
      "knn_predicted              \n",
      "False           3386     64\n",
      "True            8346  12986\n",
      "---\n",
      "              precision    recall  f1-score   support\n",
      "\n",
      "       False       0.98      0.29      0.45     11732\n",
      "        True       0.61      1.00      0.76     13050\n",
      "\n",
      "    accuracy                           0.66     24782\n",
      "   macro avg       0.80      0.64      0.60     24782\n",
      "weighted avg       0.79      0.66      0.61     24782\n",
      "\n"
     ]
    }
   ],
   "source": [
    "utils.print_model_evaluation(train, 'knn_predicted')"
   ]
  },
  {
   "cell_type": "code",
   "execution_count": 115,
   "id": "musical-newsletter",
   "metadata": {},
   "outputs": [
    {
     "name": "stdout",
     "output_type": "stream",
     "text": [
      "Accuracy: 62.43%\n",
      "---\n",
      "Confusion Matrix\n",
      "actual         False  True \n",
      "knn_predicted              \n",
      "False           1067     30\n",
      "True            3961   5564\n",
      "---\n",
      "              precision    recall  f1-score   support\n",
      "\n",
      "       False       0.97      0.21      0.35      5028\n",
      "        True       0.58      0.99      0.74      5594\n",
      "\n",
      "    accuracy                           0.62     10622\n",
      "   macro avg       0.78      0.60      0.54     10622\n",
      "weighted avg       0.77      0.62      0.55     10622\n",
      "\n"
     ]
    }
   ],
   "source": [
    "utils.print_model_evaluation(validate, 'knn_predicted')"
   ]
  },
  {
   "cell_type": "code",
   "execution_count": null,
   "id": "pressed-signature",
   "metadata": {},
   "outputs": [],
   "source": []
  }
 ],
 "metadata": {
  "deepnote": {},
  "deepnote_execution_queue": [],
  "deepnote_notebook_id": "b697d2a8-f448-40c8-aec2-38eff54d516e",
  "kernelspec": {
   "display_name": "Python 3",
   "language": "python",
   "name": "python3"
  },
  "language_info": {
   "codemirror_mode": {
    "name": "ipython",
    "version": 3
   },
   "file_extension": ".py",
   "mimetype": "text/x-python",
   "name": "python",
   "nbconvert_exporter": "python",
   "pygments_lexer": "ipython3",
   "version": "3.8.5"
  }
 },
 "nbformat": 4,
 "nbformat_minor": 5
}
