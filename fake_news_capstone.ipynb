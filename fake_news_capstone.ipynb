{
 "cells": [
  {
   "cell_type": "code",
   "execution_count": 1,
   "id": "willing-mozambique",
   "metadata": {
    "cell_id": "00000-583fceab-2062-436e-8e1d-c8b9fbe843fe",
    "deepnote_cell_type": "code",
    "deepnote_to_be_reexecuted": false,
    "execution_millis": 6,
    "execution_start": 1621522081250,
    "source_hash": "60c2cabd"
   },
   "outputs": [],
   "source": [
    "import env\n",
    "import pandas as pd\n",
    "import numpy as np\n",
    "import utilities as utils"
   ]
  },
  {
   "cell_type": "code",
   "execution_count": 2,
   "id": "ideal-branch",
   "metadata": {
    "cell_id": "00001-b534b60b-5b6d-4643-97c7-bec0d1e8680d",
    "deepnote_cell_type": "code",
    "deepnote_to_be_reexecuted": false,
    "execution_millis": 683,
    "execution_start": 1621526156601,
    "source_hash": "39eac5e9"
   },
   "outputs": [],
   "source": [
    "fake_df = pd.read_csv(env.data_path + \"Fake.csv\")"
   ]
  },
  {
   "cell_type": "code",
   "execution_count": 3,
   "id": "speaking-pharmacology",
   "metadata": {
    "cell_id": "00002-76d50693-bcc1-4cb1-81d3-88cdfad82fa6",
    "deepnote_cell_type": "code",
    "deepnote_to_be_reexecuted": false,
    "execution_millis": 32,
    "execution_start": 1621522138440,
    "source_hash": "2003a305",
    "tags": []
   },
   "outputs": [
    {
     "data": {
      "text/html": [
       "<div>\n",
       "<style scoped>\n",
       "    .dataframe tbody tr th:only-of-type {\n",
       "        vertical-align: middle;\n",
       "    }\n",
       "\n",
       "    .dataframe tbody tr th {\n",
       "        vertical-align: top;\n",
       "    }\n",
       "\n",
       "    .dataframe thead th {\n",
       "        text-align: right;\n",
       "    }\n",
       "</style>\n",
       "<table border=\"1\" class=\"dataframe\">\n",
       "  <thead>\n",
       "    <tr style=\"text-align: right;\">\n",
       "      <th></th>\n",
       "      <th>title</th>\n",
       "      <th>text</th>\n",
       "      <th>subject</th>\n",
       "      <th>date</th>\n",
       "    </tr>\n",
       "  </thead>\n",
       "  <tbody>\n",
       "    <tr>\n",
       "      <th>0</th>\n",
       "      <td>Donald Trump Sends Out Embarrassing New Year’...</td>\n",
       "      <td>Donald Trump just couldn t wish all Americans ...</td>\n",
       "      <td>News</td>\n",
       "      <td>December 31, 2017</td>\n",
       "    </tr>\n",
       "    <tr>\n",
       "      <th>1</th>\n",
       "      <td>Drunk Bragging Trump Staffer Started Russian ...</td>\n",
       "      <td>House Intelligence Committee Chairman Devin Nu...</td>\n",
       "      <td>News</td>\n",
       "      <td>December 31, 2017</td>\n",
       "    </tr>\n",
       "    <tr>\n",
       "      <th>2</th>\n",
       "      <td>Sheriff David Clarke Becomes An Internet Joke...</td>\n",
       "      <td>On Friday, it was revealed that former Milwauk...</td>\n",
       "      <td>News</td>\n",
       "      <td>December 30, 2017</td>\n",
       "    </tr>\n",
       "    <tr>\n",
       "      <th>3</th>\n",
       "      <td>Trump Is So Obsessed He Even Has Obama’s Name...</td>\n",
       "      <td>On Christmas day, Donald Trump announced that ...</td>\n",
       "      <td>News</td>\n",
       "      <td>December 29, 2017</td>\n",
       "    </tr>\n",
       "    <tr>\n",
       "      <th>4</th>\n",
       "      <td>Pope Francis Just Called Out Donald Trump Dur...</td>\n",
       "      <td>Pope Francis used his annual Christmas Day mes...</td>\n",
       "      <td>News</td>\n",
       "      <td>December 25, 2017</td>\n",
       "    </tr>\n",
       "  </tbody>\n",
       "</table>\n",
       "</div>"
      ],
      "text/plain": [
       "                                               title  \\\n",
       "0   Donald Trump Sends Out Embarrassing New Year’...   \n",
       "1   Drunk Bragging Trump Staffer Started Russian ...   \n",
       "2   Sheriff David Clarke Becomes An Internet Joke...   \n",
       "3   Trump Is So Obsessed He Even Has Obama’s Name...   \n",
       "4   Pope Francis Just Called Out Donald Trump Dur...   \n",
       "\n",
       "                                                text subject  \\\n",
       "0  Donald Trump just couldn t wish all Americans ...    News   \n",
       "1  House Intelligence Committee Chairman Devin Nu...    News   \n",
       "2  On Friday, it was revealed that former Milwauk...    News   \n",
       "3  On Christmas day, Donald Trump announced that ...    News   \n",
       "4  Pope Francis used his annual Christmas Day mes...    News   \n",
       "\n",
       "                date  \n",
       "0  December 31, 2017  \n",
       "1  December 31, 2017  \n",
       "2  December 30, 2017  \n",
       "3  December 29, 2017  \n",
       "4  December 25, 2017  "
      ]
     },
     "execution_count": 3,
     "metadata": {},
     "output_type": "execute_result"
    }
   ],
   "source": [
    "fake_df.head()"
   ]
  },
  {
   "cell_type": "code",
   "execution_count": 4,
   "id": "dress-magic",
   "metadata": {
    "cell_id": "00003-e9e8340b-2308-4651-bfdd-6a2ad8b850b0",
    "deepnote_cell_type": "code",
    "deepnote_to_be_reexecuted": false,
    "execution_millis": 7,
    "execution_start": 1621522277788,
    "source_hash": "d7fa127b",
    "tags": []
   },
   "outputs": [
    {
     "data": {
      "text/plain": [
       "array(['News', 'politics', 'Government News', 'left-news', 'US_News',\n",
       "       'Middle-east'], dtype=object)"
      ]
     },
     "execution_count": 4,
     "metadata": {},
     "output_type": "execute_result"
    }
   ],
   "source": [
    "fake_df.subject.unique()"
   ]
  },
  {
   "cell_type": "code",
   "execution_count": 5,
   "id": "after-generator",
   "metadata": {
    "cell_id": "00003-19cab8d0-497a-478e-9b1c-34381401f835",
    "deepnote_cell_type": "code",
    "deepnote_to_be_reexecuted": false,
    "execution_millis": 611,
    "execution_start": 1621526161748,
    "source_hash": "42da2123",
    "tags": []
   },
   "outputs": [],
   "source": [
    "true_df = pd.read_csv(env.data_path + \"True.csv\")"
   ]
  },
  {
   "cell_type": "code",
   "execution_count": 6,
   "id": "deadly-planet",
   "metadata": {
    "cell_id": "00004-9841d627-d587-4f96-bb66-785b92f859c6",
    "deepnote_cell_type": "code",
    "deepnote_to_be_reexecuted": false,
    "execution_millis": 32,
    "execution_start": 1621522191110,
    "source_hash": "1ca778bc",
    "tags": []
   },
   "outputs": [
    {
     "data": {
      "text/html": [
       "<div>\n",
       "<style scoped>\n",
       "    .dataframe tbody tr th:only-of-type {\n",
       "        vertical-align: middle;\n",
       "    }\n",
       "\n",
       "    .dataframe tbody tr th {\n",
       "        vertical-align: top;\n",
       "    }\n",
       "\n",
       "    .dataframe thead th {\n",
       "        text-align: right;\n",
       "    }\n",
       "</style>\n",
       "<table border=\"1\" class=\"dataframe\">\n",
       "  <thead>\n",
       "    <tr style=\"text-align: right;\">\n",
       "      <th></th>\n",
       "      <th>title</th>\n",
       "      <th>text</th>\n",
       "      <th>subject</th>\n",
       "      <th>date</th>\n",
       "    </tr>\n",
       "  </thead>\n",
       "  <tbody>\n",
       "    <tr>\n",
       "      <th>0</th>\n",
       "      <td>As U.S. budget fight looms, Republicans flip t...</td>\n",
       "      <td>WASHINGTON (Reuters) - The head of a conservat...</td>\n",
       "      <td>politicsNews</td>\n",
       "      <td>December 31, 2017</td>\n",
       "    </tr>\n",
       "    <tr>\n",
       "      <th>1</th>\n",
       "      <td>U.S. military to accept transgender recruits o...</td>\n",
       "      <td>WASHINGTON (Reuters) - Transgender people will...</td>\n",
       "      <td>politicsNews</td>\n",
       "      <td>December 29, 2017</td>\n",
       "    </tr>\n",
       "    <tr>\n",
       "      <th>2</th>\n",
       "      <td>Senior U.S. Republican senator: 'Let Mr. Muell...</td>\n",
       "      <td>WASHINGTON (Reuters) - The special counsel inv...</td>\n",
       "      <td>politicsNews</td>\n",
       "      <td>December 31, 2017</td>\n",
       "    </tr>\n",
       "    <tr>\n",
       "      <th>3</th>\n",
       "      <td>FBI Russia probe helped by Australian diplomat...</td>\n",
       "      <td>WASHINGTON (Reuters) - Trump campaign adviser ...</td>\n",
       "      <td>politicsNews</td>\n",
       "      <td>December 30, 2017</td>\n",
       "    </tr>\n",
       "    <tr>\n",
       "      <th>4</th>\n",
       "      <td>Trump wants Postal Service to charge 'much mor...</td>\n",
       "      <td>SEATTLE/WASHINGTON (Reuters) - President Donal...</td>\n",
       "      <td>politicsNews</td>\n",
       "      <td>December 29, 2017</td>\n",
       "    </tr>\n",
       "  </tbody>\n",
       "</table>\n",
       "</div>"
      ],
      "text/plain": [
       "                                               title  \\\n",
       "0  As U.S. budget fight looms, Republicans flip t...   \n",
       "1  U.S. military to accept transgender recruits o...   \n",
       "2  Senior U.S. Republican senator: 'Let Mr. Muell...   \n",
       "3  FBI Russia probe helped by Australian diplomat...   \n",
       "4  Trump wants Postal Service to charge 'much mor...   \n",
       "\n",
       "                                                text       subject  \\\n",
       "0  WASHINGTON (Reuters) - The head of a conservat...  politicsNews   \n",
       "1  WASHINGTON (Reuters) - Transgender people will...  politicsNews   \n",
       "2  WASHINGTON (Reuters) - The special counsel inv...  politicsNews   \n",
       "3  WASHINGTON (Reuters) - Trump campaign adviser ...  politicsNews   \n",
       "4  SEATTLE/WASHINGTON (Reuters) - President Donal...  politicsNews   \n",
       "\n",
       "                 date  \n",
       "0  December 31, 2017   \n",
       "1  December 29, 2017   \n",
       "2  December 31, 2017   \n",
       "3  December 30, 2017   \n",
       "4  December 29, 2017   "
      ]
     },
     "execution_count": 6,
     "metadata": {},
     "output_type": "execute_result"
    }
   ],
   "source": [
    "true_df.head()"
   ]
  },
  {
   "cell_type": "code",
   "execution_count": 7,
   "id": "eastern-spectacular",
   "metadata": {
    "cell_id": "00005-d83c4935-62e8-4cd9-a221-447a45c936ac",
    "deepnote_cell_type": "code",
    "deepnote_to_be_reexecuted": false,
    "execution_millis": 6,
    "execution_start": 1621522301412,
    "source_hash": "18a7a131",
    "tags": []
   },
   "outputs": [
    {
     "data": {
      "text/plain": [
       "array(['politicsNews', 'worldnews'], dtype=object)"
      ]
     },
     "execution_count": 7,
     "metadata": {},
     "output_type": "execute_result"
    }
   ],
   "source": [
    "true_df.subject.unique()"
   ]
  },
  {
   "cell_type": "code",
   "execution_count": 8,
   "id": "chubby-hobby",
   "metadata": {
    "cell_id": "00007-c89f5992-5a4f-41f7-868d-891e36350d40",
    "deepnote_cell_type": "code",
    "deepnote_to_be_reexecuted": false,
    "execution_millis": 2,
    "execution_start": 1621526167445,
    "source_hash": "de83c74c",
    "tags": []
   },
   "outputs": [],
   "source": [
    "fake_df['is_fake'] = True"
   ]
  },
  {
   "cell_type": "code",
   "execution_count": 9,
   "id": "local-extreme",
   "metadata": {
    "cell_id": "00008-a2860752-bdf5-4fad-bde6-4a0f89f51a34",
    "deepnote_cell_type": "code",
    "deepnote_to_be_reexecuted": false,
    "execution_millis": 26,
    "execution_start": 1621522382386,
    "source_hash": "2003a305",
    "tags": []
   },
   "outputs": [
    {
     "data": {
      "text/html": [
       "<div>\n",
       "<style scoped>\n",
       "    .dataframe tbody tr th:only-of-type {\n",
       "        vertical-align: middle;\n",
       "    }\n",
       "\n",
       "    .dataframe tbody tr th {\n",
       "        vertical-align: top;\n",
       "    }\n",
       "\n",
       "    .dataframe thead th {\n",
       "        text-align: right;\n",
       "    }\n",
       "</style>\n",
       "<table border=\"1\" class=\"dataframe\">\n",
       "  <thead>\n",
       "    <tr style=\"text-align: right;\">\n",
       "      <th></th>\n",
       "      <th>title</th>\n",
       "      <th>text</th>\n",
       "      <th>subject</th>\n",
       "      <th>date</th>\n",
       "      <th>is_fake</th>\n",
       "    </tr>\n",
       "  </thead>\n",
       "  <tbody>\n",
       "    <tr>\n",
       "      <th>0</th>\n",
       "      <td>Donald Trump Sends Out Embarrassing New Year’...</td>\n",
       "      <td>Donald Trump just couldn t wish all Americans ...</td>\n",
       "      <td>News</td>\n",
       "      <td>December 31, 2017</td>\n",
       "      <td>True</td>\n",
       "    </tr>\n",
       "    <tr>\n",
       "      <th>1</th>\n",
       "      <td>Drunk Bragging Trump Staffer Started Russian ...</td>\n",
       "      <td>House Intelligence Committee Chairman Devin Nu...</td>\n",
       "      <td>News</td>\n",
       "      <td>December 31, 2017</td>\n",
       "      <td>True</td>\n",
       "    </tr>\n",
       "    <tr>\n",
       "      <th>2</th>\n",
       "      <td>Sheriff David Clarke Becomes An Internet Joke...</td>\n",
       "      <td>On Friday, it was revealed that former Milwauk...</td>\n",
       "      <td>News</td>\n",
       "      <td>December 30, 2017</td>\n",
       "      <td>True</td>\n",
       "    </tr>\n",
       "    <tr>\n",
       "      <th>3</th>\n",
       "      <td>Trump Is So Obsessed He Even Has Obama’s Name...</td>\n",
       "      <td>On Christmas day, Donald Trump announced that ...</td>\n",
       "      <td>News</td>\n",
       "      <td>December 29, 2017</td>\n",
       "      <td>True</td>\n",
       "    </tr>\n",
       "    <tr>\n",
       "      <th>4</th>\n",
       "      <td>Pope Francis Just Called Out Donald Trump Dur...</td>\n",
       "      <td>Pope Francis used his annual Christmas Day mes...</td>\n",
       "      <td>News</td>\n",
       "      <td>December 25, 2017</td>\n",
       "      <td>True</td>\n",
       "    </tr>\n",
       "  </tbody>\n",
       "</table>\n",
       "</div>"
      ],
      "text/plain": [
       "                                               title  \\\n",
       "0   Donald Trump Sends Out Embarrassing New Year’...   \n",
       "1   Drunk Bragging Trump Staffer Started Russian ...   \n",
       "2   Sheriff David Clarke Becomes An Internet Joke...   \n",
       "3   Trump Is So Obsessed He Even Has Obama’s Name...   \n",
       "4   Pope Francis Just Called Out Donald Trump Dur...   \n",
       "\n",
       "                                                text subject  \\\n",
       "0  Donald Trump just couldn t wish all Americans ...    News   \n",
       "1  House Intelligence Committee Chairman Devin Nu...    News   \n",
       "2  On Friday, it was revealed that former Milwauk...    News   \n",
       "3  On Christmas day, Donald Trump announced that ...    News   \n",
       "4  Pope Francis used his annual Christmas Day mes...    News   \n",
       "\n",
       "                date  is_fake  \n",
       "0  December 31, 2017     True  \n",
       "1  December 31, 2017     True  \n",
       "2  December 30, 2017     True  \n",
       "3  December 29, 2017     True  \n",
       "4  December 25, 2017     True  "
      ]
     },
     "execution_count": 9,
     "metadata": {},
     "output_type": "execute_result"
    }
   ],
   "source": [
    "fake_df.head()"
   ]
  },
  {
   "cell_type": "code",
   "execution_count": 10,
   "id": "direct-demographic",
   "metadata": {
    "cell_id": "00009-890859a2-7e21-4a6d-a577-01f110a408f4",
    "deepnote_cell_type": "code",
    "deepnote_to_be_reexecuted": false,
    "execution_millis": 3,
    "execution_start": 1621526171213,
    "source_hash": "61746037",
    "tags": []
   },
   "outputs": [],
   "source": [
    "true_df['is_fake'] = False"
   ]
  },
  {
   "cell_type": "code",
   "execution_count": 11,
   "id": "peaceful-employee",
   "metadata": {
    "cell_id": "00010-493e1801-3242-4990-856c-bfd622ee83b2",
    "deepnote_cell_type": "code",
    "deepnote_to_be_reexecuted": false,
    "execution_millis": 24,
    "execution_start": 1621522403039,
    "source_hash": "1ca778bc",
    "tags": []
   },
   "outputs": [
    {
     "data": {
      "text/html": [
       "<div>\n",
       "<style scoped>\n",
       "    .dataframe tbody tr th:only-of-type {\n",
       "        vertical-align: middle;\n",
       "    }\n",
       "\n",
       "    .dataframe tbody tr th {\n",
       "        vertical-align: top;\n",
       "    }\n",
       "\n",
       "    .dataframe thead th {\n",
       "        text-align: right;\n",
       "    }\n",
       "</style>\n",
       "<table border=\"1\" class=\"dataframe\">\n",
       "  <thead>\n",
       "    <tr style=\"text-align: right;\">\n",
       "      <th></th>\n",
       "      <th>title</th>\n",
       "      <th>text</th>\n",
       "      <th>subject</th>\n",
       "      <th>date</th>\n",
       "      <th>is_fake</th>\n",
       "    </tr>\n",
       "  </thead>\n",
       "  <tbody>\n",
       "    <tr>\n",
       "      <th>0</th>\n",
       "      <td>As U.S. budget fight looms, Republicans flip t...</td>\n",
       "      <td>WASHINGTON (Reuters) - The head of a conservat...</td>\n",
       "      <td>politicsNews</td>\n",
       "      <td>December 31, 2017</td>\n",
       "      <td>False</td>\n",
       "    </tr>\n",
       "    <tr>\n",
       "      <th>1</th>\n",
       "      <td>U.S. military to accept transgender recruits o...</td>\n",
       "      <td>WASHINGTON (Reuters) - Transgender people will...</td>\n",
       "      <td>politicsNews</td>\n",
       "      <td>December 29, 2017</td>\n",
       "      <td>False</td>\n",
       "    </tr>\n",
       "    <tr>\n",
       "      <th>2</th>\n",
       "      <td>Senior U.S. Republican senator: 'Let Mr. Muell...</td>\n",
       "      <td>WASHINGTON (Reuters) - The special counsel inv...</td>\n",
       "      <td>politicsNews</td>\n",
       "      <td>December 31, 2017</td>\n",
       "      <td>False</td>\n",
       "    </tr>\n",
       "    <tr>\n",
       "      <th>3</th>\n",
       "      <td>FBI Russia probe helped by Australian diplomat...</td>\n",
       "      <td>WASHINGTON (Reuters) - Trump campaign adviser ...</td>\n",
       "      <td>politicsNews</td>\n",
       "      <td>December 30, 2017</td>\n",
       "      <td>False</td>\n",
       "    </tr>\n",
       "    <tr>\n",
       "      <th>4</th>\n",
       "      <td>Trump wants Postal Service to charge 'much mor...</td>\n",
       "      <td>SEATTLE/WASHINGTON (Reuters) - President Donal...</td>\n",
       "      <td>politicsNews</td>\n",
       "      <td>December 29, 2017</td>\n",
       "      <td>False</td>\n",
       "    </tr>\n",
       "  </tbody>\n",
       "</table>\n",
       "</div>"
      ],
      "text/plain": [
       "                                               title  \\\n",
       "0  As U.S. budget fight looms, Republicans flip t...   \n",
       "1  U.S. military to accept transgender recruits o...   \n",
       "2  Senior U.S. Republican senator: 'Let Mr. Muell...   \n",
       "3  FBI Russia probe helped by Australian diplomat...   \n",
       "4  Trump wants Postal Service to charge 'much mor...   \n",
       "\n",
       "                                                text       subject  \\\n",
       "0  WASHINGTON (Reuters) - The head of a conservat...  politicsNews   \n",
       "1  WASHINGTON (Reuters) - Transgender people will...  politicsNews   \n",
       "2  WASHINGTON (Reuters) - The special counsel inv...  politicsNews   \n",
       "3  WASHINGTON (Reuters) - Trump campaign adviser ...  politicsNews   \n",
       "4  SEATTLE/WASHINGTON (Reuters) - President Donal...  politicsNews   \n",
       "\n",
       "                 date  is_fake  \n",
       "0  December 31, 2017     False  \n",
       "1  December 29, 2017     False  \n",
       "2  December 31, 2017     False  \n",
       "3  December 30, 2017     False  \n",
       "4  December 29, 2017     False  "
      ]
     },
     "execution_count": 11,
     "metadata": {},
     "output_type": "execute_result"
    }
   ],
   "source": [
    "true_df.head()"
   ]
  },
  {
   "cell_type": "code",
   "execution_count": 12,
   "id": "finite-samuel",
   "metadata": {
    "cell_id": "00011-e8524946-252a-47ec-90b3-0637a17b82a9",
    "deepnote_cell_type": "code",
    "deepnote_to_be_reexecuted": false,
    "execution_millis": 5,
    "execution_start": 1621526177105,
    "source_hash": "6e91199c",
    "tags": []
   },
   "outputs": [],
   "source": [
    "articles_df = pd.concat([true_df, fake_df], axis=0)"
   ]
  },
  {
   "cell_type": "code",
   "execution_count": 13,
   "id": "norman-rwanda",
   "metadata": {
    "cell_id": "00014-966dcbc1-7b70-455e-9eb9-ade256c87076",
    "deepnote_cell_type": "code",
    "deepnote_to_be_reexecuted": false,
    "execution_millis": 28,
    "execution_start": 1621526233322,
    "source_hash": "5a1c3f64",
    "tags": []
   },
   "outputs": [
    {
     "name": "stdout",
     "output_type": "stream",
     "text": [
      "<class 'pandas.core.frame.DataFrame'>\n",
      "RangeIndex: 23481 entries, 0 to 23480\n",
      "Data columns (total 5 columns):\n",
      " #   Column   Non-Null Count  Dtype \n",
      "---  ------   --------------  ----- \n",
      " 0   title    23481 non-null  object\n",
      " 1   text     23481 non-null  object\n",
      " 2   subject  23481 non-null  object\n",
      " 3   date     23481 non-null  object\n",
      " 4   is_fake  23481 non-null  bool  \n",
      "dtypes: bool(1), object(4)\n",
      "memory usage: 756.8+ KB\n"
     ]
    }
   ],
   "source": [
    "fake_df.info()"
   ]
  },
  {
   "cell_type": "code",
   "execution_count": 14,
   "id": "ideal-nickname",
   "metadata": {
    "cell_id": "00014-304ae4a4-24b6-4acb-9543-772f8ddd41cc",
    "deepnote_cell_type": "code",
    "deepnote_to_be_reexecuted": false,
    "execution_millis": 15,
    "execution_start": 1621526214648,
    "source_hash": "ed7a7475",
    "tags": []
   },
   "outputs": [
    {
     "name": "stdout",
     "output_type": "stream",
     "text": [
      "<class 'pandas.core.frame.DataFrame'>\n",
      "RangeIndex: 21417 entries, 0 to 21416\n",
      "Data columns (total 5 columns):\n",
      " #   Column   Non-Null Count  Dtype \n",
      "---  ------   --------------  ----- \n",
      " 0   title    21417 non-null  object\n",
      " 1   text     21417 non-null  object\n",
      " 2   subject  21417 non-null  object\n",
      " 3   date     21417 non-null  object\n",
      " 4   is_fake  21417 non-null  bool  \n",
      "dtypes: bool(1), object(4)\n",
      "memory usage: 690.3+ KB\n"
     ]
    }
   ],
   "source": [
    "true_df.info()"
   ]
  },
  {
   "cell_type": "code",
   "execution_count": 15,
   "id": "encouraging-rings",
   "metadata": {
    "cell_id": "00014-545458dc-d3a1-4d03-ba30-8f42169798d1",
    "deepnote_cell_type": "code",
    "deepnote_to_be_reexecuted": false,
    "execution_millis": 16,
    "execution_start": 1621526200930,
    "source_hash": "184ed32c",
    "tags": []
   },
   "outputs": [
    {
     "name": "stdout",
     "output_type": "stream",
     "text": [
      "<class 'pandas.core.frame.DataFrame'>\n",
      "Int64Index: 44898 entries, 0 to 23480\n",
      "Data columns (total 5 columns):\n",
      " #   Column   Non-Null Count  Dtype \n",
      "---  ------   --------------  ----- \n",
      " 0   title    44898 non-null  object\n",
      " 1   text     44898 non-null  object\n",
      " 2   subject  44898 non-null  object\n",
      " 3   date     44898 non-null  object\n",
      " 4   is_fake  44898 non-null  bool  \n",
      "dtypes: bool(1), object(4)\n",
      "memory usage: 1.8+ MB\n"
     ]
    }
   ],
   "source": [
    "articles_df.info()"
   ]
  },
  {
   "cell_type": "code",
   "execution_count": 16,
   "id": "further-arthritis",
   "metadata": {
    "cell_id": "00017-f3291a8a-bb78-4156-add2-d2a03decb802",
    "deepnote_cell_type": "code",
    "deepnote_to_be_reexecuted": false,
    "execution_millis": 7,
    "execution_start": 1621526263966,
    "source_hash": "1bfc4e03",
    "tags": []
   },
   "outputs": [],
   "source": [
    "articles_df = articles_df.reset_index()"
   ]
  },
  {
   "cell_type": "code",
   "execution_count": 17,
   "id": "greater-setup",
   "metadata": {
    "cell_id": "00018-c3c1ea67-848f-4006-8198-6c505daff687",
    "deepnote_cell_type": "code",
    "deepnote_to_be_reexecuted": false,
    "execution_millis": 5,
    "execution_start": 1621526302454,
    "source_hash": "f2c9de7c",
    "tags": []
   },
   "outputs": [],
   "source": [
    "articles_df = articles_df.drop(columns=['index'])"
   ]
  },
  {
   "cell_type": "code",
   "execution_count": 18,
   "id": "dietary-snapshot",
   "metadata": {},
   "outputs": [],
   "source": [
    "def truncate_month(string_date):\n",
    "    three_letter_month = string_date[0:3]\n",
    "    first_space_index = string_date.find(\" \")\n",
    "    day_year = string_date[first_space_index:]\n",
    "    \n",
    "    return three_letter_month + day_year"
   ]
  },
  {
   "cell_type": "code",
   "execution_count": 19,
   "id": "voluntary-establishment",
   "metadata": {},
   "outputs": [],
   "source": [
    "def value_in_date_format(string):\n",
    "    return (len(string) == 11) | (len(string) == 12)\n"
   ]
  },
  {
   "cell_type": "code",
   "execution_count": 20,
   "id": "practical-symbol",
   "metadata": {},
   "outputs": [],
   "source": [
    "articles_df.date = articles_df.date.str.strip()"
   ]
  },
  {
   "cell_type": "code",
   "execution_count": 21,
   "id": "vulnerable-budapest",
   "metadata": {},
   "outputs": [],
   "source": [
    "articles_df.date = articles_df.date.apply(truncate_month)"
   ]
  },
  {
   "cell_type": "code",
   "execution_count": 22,
   "id": "consistent-lunch",
   "metadata": {},
   "outputs": [],
   "source": [
    "articles_df['correct_date_format'] = articles_df.date.apply(value_in_date_format)"
   ]
  },
  {
   "cell_type": "code",
   "execution_count": 35,
   "id": "cross-antenna",
   "metadata": {},
   "outputs": [
    {
     "ename": "TypeError",
     "evalue": "replace expected at least 2 arguments, got 1",
     "output_type": "error",
     "traceback": [
      "\u001b[0;31m---------------------------------------------------------------------------\u001b[0m",
      "\u001b[0;31mTypeError\u001b[0m                                 Traceback (most recent call last)",
      "\u001b[0;32m<ipython-input-35-2f63c7c395ef>\u001b[0m in \u001b[0;36m<module>\u001b[0;34m\u001b[0m\n\u001b[1;32m      1\u001b[0m \u001b[0;32mfor\u001b[0m \u001b[0mrow\u001b[0m \u001b[0;32min\u001b[0m \u001b[0marticles_df\u001b[0m\u001b[0;34m[\u001b[0m\u001b[0marticles_df\u001b[0m\u001b[0;34m.\u001b[0m\u001b[0mcorrect_date_format\u001b[0m \u001b[0;34m==\u001b[0m \u001b[0;32mFalse\u001b[0m\u001b[0;34m]\u001b[0m\u001b[0;34m.\u001b[0m\u001b[0mindex\u001b[0m\u001b[0;34m:\u001b[0m\u001b[0;34m\u001b[0m\u001b[0;34m\u001b[0m\u001b[0m\n\u001b[0;32m----> 2\u001b[0;31m     \u001b[0marticles_df\u001b[0m\u001b[0;34m.\u001b[0m\u001b[0miloc\u001b[0m\u001b[0;34m[\u001b[0m\u001b[0mrow\u001b[0m\u001b[0;34m]\u001b[0m\u001b[0;34m.\u001b[0m\u001b[0mdate\u001b[0m\u001b[0;34m.\u001b[0m\u001b[0mreplace\u001b[0m\u001b[0;34m(\u001b[0m\u001b[0;34m\"Aug 16, 2016\"\u001b[0m\u001b[0;34m)\u001b[0m\u001b[0;34m\u001b[0m\u001b[0;34m\u001b[0m\u001b[0m\n\u001b[0m",
      "\u001b[0;31mTypeError\u001b[0m: replace expected at least 2 arguments, got 1"
     ]
    }
   ],
   "source": [
    "for row in articles_df[articles_df.correct_date_format == False].index:\n",
    "    articles_df.iloc[row].date"
   ]
  },
  {
   "cell_type": "code",
   "execution_count": 40,
   "id": "exotic-billy",
   "metadata": {},
   "outputs": [
    {
     "ename": "SyntaxError",
     "evalue": "expression cannot contain assignment, perhaps you meant \"==\"? (<ipython-input-40-823d01276281>, line 1)",
     "output_type": "error",
     "traceback": [
      "\u001b[0;36m  File \u001b[0;32m\"<ipython-input-40-823d01276281>\"\u001b[0;36m, line \u001b[0;32m1\u001b[0m\n\u001b[0;31m    articles_df.iloc[30467].date.apply(lambda x : x = \"Aug 16, 2016\")\u001b[0m\n\u001b[0m                                       ^\u001b[0m\n\u001b[0;31mSyntaxError\u001b[0m\u001b[0;31m:\u001b[0m expression cannot contain assignment, perhaps you meant \"==\"?\n"
     ]
    }
   ],
   "source": [
    "articles_df.iloc[30467].date.apply(lambda x : x = \"Aug 16, 2016\")"
   ]
  },
  {
   "cell_type": "code",
   "execution_count": 38,
   "id": "interim-mineral",
   "metadata": {},
   "outputs": [
    {
     "data": {
      "text/plain": [
       "'19-8'"
      ]
     },
     "execution_count": 38,
     "metadata": {},
     "output_type": "execute_result"
    }
   ],
   "source": [
    "articles_df.iloc[30467].date"
   ]
  },
  {
   "cell_type": "code",
   "execution_count": 24,
   "id": "hungry-soundtrack",
   "metadata": {},
   "outputs": [
    {
     "data": {
      "text/plain": [
       "12"
      ]
     },
     "execution_count": 24,
     "metadata": {},
     "output_type": "execute_result"
    }
   ],
   "source": [
    "len(articles_df.iloc[0].date)"
   ]
  },
  {
   "cell_type": "code",
   "execution_count": 26,
   "id": "vocational-beijing",
   "metadata": {},
   "outputs": [
    {
     "ename": "KeyError",
     "evalue": "'[30775 36924 36925 37256 37257 38849 38850 40350 43286 43287] not found in axis'",
     "output_type": "error",
     "traceback": [
      "\u001b[0;31m---------------------------------------------------------------------------\u001b[0m",
      "\u001b[0;31mKeyError\u001b[0m                                  Traceback (most recent call last)",
      "\u001b[0;32m<ipython-input-26-737f552a0b15>\u001b[0m in \u001b[0;36m<module>\u001b[0;34m\u001b[0m\n\u001b[0;32m----> 1\u001b[0;31m \u001b[0marticles_df\u001b[0m \u001b[0;34m=\u001b[0m \u001b[0marticles_df\u001b[0m\u001b[0;34m.\u001b[0m\u001b[0mdrop\u001b[0m\u001b[0;34m(\u001b[0m\u001b[0mindex\u001b[0m\u001b[0;34m=\u001b[0m\u001b[0;34m[\u001b[0m\u001b[0;36m30775\u001b[0m\u001b[0;34m,\u001b[0m \u001b[0;36m36924\u001b[0m\u001b[0;34m,\u001b[0m \u001b[0;36m36925\u001b[0m\u001b[0;34m,\u001b[0m \u001b[0;36m37256\u001b[0m\u001b[0;34m,\u001b[0m \u001b[0;36m37257\u001b[0m\u001b[0;34m,\u001b[0m \u001b[0;36m38849\u001b[0m\u001b[0;34m,\u001b[0m \u001b[0;36m38850\u001b[0m\u001b[0;34m,\u001b[0m \u001b[0;36m40350\u001b[0m\u001b[0;34m,\u001b[0m \u001b[0;36m43286\u001b[0m\u001b[0;34m,\u001b[0m \u001b[0;36m43287\u001b[0m\u001b[0;34m]\u001b[0m\u001b[0;34m)\u001b[0m\u001b[0;34m\u001b[0m\u001b[0;34m\u001b[0m\u001b[0m\n\u001b[0m",
      "\u001b[0;32m/usr/local/anaconda3/lib/python3.8/site-packages/pandas/core/frame.py\u001b[0m in \u001b[0;36mdrop\u001b[0;34m(self, labels, axis, index, columns, level, inplace, errors)\u001b[0m\n\u001b[1;32m   4303\u001b[0m                 \u001b[0mweight\u001b[0m  \u001b[0;36m1.0\u001b[0m     \u001b[0;36m0.8\u001b[0m\u001b[0;34m\u001b[0m\u001b[0;34m\u001b[0m\u001b[0m\n\u001b[1;32m   4304\u001b[0m         \"\"\"\n\u001b[0;32m-> 4305\u001b[0;31m         return super().drop(\n\u001b[0m\u001b[1;32m   4306\u001b[0m             \u001b[0mlabels\u001b[0m\u001b[0;34m=\u001b[0m\u001b[0mlabels\u001b[0m\u001b[0;34m,\u001b[0m\u001b[0;34m\u001b[0m\u001b[0;34m\u001b[0m\u001b[0m\n\u001b[1;32m   4307\u001b[0m             \u001b[0maxis\u001b[0m\u001b[0;34m=\u001b[0m\u001b[0maxis\u001b[0m\u001b[0;34m,\u001b[0m\u001b[0;34m\u001b[0m\u001b[0;34m\u001b[0m\u001b[0m\n",
      "\u001b[0;32m/usr/local/anaconda3/lib/python3.8/site-packages/pandas/core/generic.py\u001b[0m in \u001b[0;36mdrop\u001b[0;34m(self, labels, axis, index, columns, level, inplace, errors)\u001b[0m\n\u001b[1;32m   4150\u001b[0m         \u001b[0;32mfor\u001b[0m \u001b[0maxis\u001b[0m\u001b[0;34m,\u001b[0m \u001b[0mlabels\u001b[0m \u001b[0;32min\u001b[0m \u001b[0maxes\u001b[0m\u001b[0;34m.\u001b[0m\u001b[0mitems\u001b[0m\u001b[0;34m(\u001b[0m\u001b[0;34m)\u001b[0m\u001b[0;34m:\u001b[0m\u001b[0;34m\u001b[0m\u001b[0;34m\u001b[0m\u001b[0m\n\u001b[1;32m   4151\u001b[0m             \u001b[0;32mif\u001b[0m \u001b[0mlabels\u001b[0m \u001b[0;32mis\u001b[0m \u001b[0;32mnot\u001b[0m \u001b[0;32mNone\u001b[0m\u001b[0;34m:\u001b[0m\u001b[0;34m\u001b[0m\u001b[0;34m\u001b[0m\u001b[0m\n\u001b[0;32m-> 4152\u001b[0;31m                 \u001b[0mobj\u001b[0m \u001b[0;34m=\u001b[0m \u001b[0mobj\u001b[0m\u001b[0;34m.\u001b[0m\u001b[0m_drop_axis\u001b[0m\u001b[0;34m(\u001b[0m\u001b[0mlabels\u001b[0m\u001b[0;34m,\u001b[0m \u001b[0maxis\u001b[0m\u001b[0;34m,\u001b[0m \u001b[0mlevel\u001b[0m\u001b[0;34m=\u001b[0m\u001b[0mlevel\u001b[0m\u001b[0;34m,\u001b[0m \u001b[0merrors\u001b[0m\u001b[0;34m=\u001b[0m\u001b[0merrors\u001b[0m\u001b[0;34m)\u001b[0m\u001b[0;34m\u001b[0m\u001b[0;34m\u001b[0m\u001b[0m\n\u001b[0m\u001b[1;32m   4153\u001b[0m \u001b[0;34m\u001b[0m\u001b[0m\n\u001b[1;32m   4154\u001b[0m         \u001b[0;32mif\u001b[0m \u001b[0minplace\u001b[0m\u001b[0;34m:\u001b[0m\u001b[0;34m\u001b[0m\u001b[0;34m\u001b[0m\u001b[0m\n",
      "\u001b[0;32m/usr/local/anaconda3/lib/python3.8/site-packages/pandas/core/generic.py\u001b[0m in \u001b[0;36m_drop_axis\u001b[0;34m(self, labels, axis, level, errors)\u001b[0m\n\u001b[1;32m   4185\u001b[0m                 \u001b[0mnew_axis\u001b[0m \u001b[0;34m=\u001b[0m \u001b[0maxis\u001b[0m\u001b[0;34m.\u001b[0m\u001b[0mdrop\u001b[0m\u001b[0;34m(\u001b[0m\u001b[0mlabels\u001b[0m\u001b[0;34m,\u001b[0m \u001b[0mlevel\u001b[0m\u001b[0;34m=\u001b[0m\u001b[0mlevel\u001b[0m\u001b[0;34m,\u001b[0m \u001b[0merrors\u001b[0m\u001b[0;34m=\u001b[0m\u001b[0merrors\u001b[0m\u001b[0;34m)\u001b[0m\u001b[0;34m\u001b[0m\u001b[0;34m\u001b[0m\u001b[0m\n\u001b[1;32m   4186\u001b[0m             \u001b[0;32melse\u001b[0m\u001b[0;34m:\u001b[0m\u001b[0;34m\u001b[0m\u001b[0;34m\u001b[0m\u001b[0m\n\u001b[0;32m-> 4187\u001b[0;31m                 \u001b[0mnew_axis\u001b[0m \u001b[0;34m=\u001b[0m \u001b[0maxis\u001b[0m\u001b[0;34m.\u001b[0m\u001b[0mdrop\u001b[0m\u001b[0;34m(\u001b[0m\u001b[0mlabels\u001b[0m\u001b[0;34m,\u001b[0m \u001b[0merrors\u001b[0m\u001b[0;34m=\u001b[0m\u001b[0merrors\u001b[0m\u001b[0;34m)\u001b[0m\u001b[0;34m\u001b[0m\u001b[0;34m\u001b[0m\u001b[0m\n\u001b[0m\u001b[1;32m   4188\u001b[0m             \u001b[0mresult\u001b[0m \u001b[0;34m=\u001b[0m \u001b[0mself\u001b[0m\u001b[0;34m.\u001b[0m\u001b[0mreindex\u001b[0m\u001b[0;34m(\u001b[0m\u001b[0;34m**\u001b[0m\u001b[0;34m{\u001b[0m\u001b[0maxis_name\u001b[0m\u001b[0;34m:\u001b[0m \u001b[0mnew_axis\u001b[0m\u001b[0;34m}\u001b[0m\u001b[0;34m)\u001b[0m\u001b[0;34m\u001b[0m\u001b[0;34m\u001b[0m\u001b[0m\n\u001b[1;32m   4189\u001b[0m \u001b[0;34m\u001b[0m\u001b[0m\n",
      "\u001b[0;32m/usr/local/anaconda3/lib/python3.8/site-packages/pandas/core/indexes/base.py\u001b[0m in \u001b[0;36mdrop\u001b[0;34m(self, labels, errors)\u001b[0m\n\u001b[1;32m   5589\u001b[0m         \u001b[0;32mif\u001b[0m \u001b[0mmask\u001b[0m\u001b[0;34m.\u001b[0m\u001b[0many\u001b[0m\u001b[0;34m(\u001b[0m\u001b[0;34m)\u001b[0m\u001b[0;34m:\u001b[0m\u001b[0;34m\u001b[0m\u001b[0;34m\u001b[0m\u001b[0m\n\u001b[1;32m   5590\u001b[0m             \u001b[0;32mif\u001b[0m \u001b[0merrors\u001b[0m \u001b[0;34m!=\u001b[0m \u001b[0;34m\"ignore\"\u001b[0m\u001b[0;34m:\u001b[0m\u001b[0;34m\u001b[0m\u001b[0;34m\u001b[0m\u001b[0m\n\u001b[0;32m-> 5591\u001b[0;31m                 \u001b[0;32mraise\u001b[0m \u001b[0mKeyError\u001b[0m\u001b[0;34m(\u001b[0m\u001b[0;34mf\"{labels[mask]} not found in axis\"\u001b[0m\u001b[0;34m)\u001b[0m\u001b[0;34m\u001b[0m\u001b[0;34m\u001b[0m\u001b[0m\n\u001b[0m\u001b[1;32m   5592\u001b[0m             \u001b[0mindexer\u001b[0m \u001b[0;34m=\u001b[0m \u001b[0mindexer\u001b[0m\u001b[0;34m[\u001b[0m\u001b[0;34m~\u001b[0m\u001b[0mmask\u001b[0m\u001b[0;34m]\u001b[0m\u001b[0;34m\u001b[0m\u001b[0;34m\u001b[0m\u001b[0m\n\u001b[1;32m   5593\u001b[0m         \u001b[0;32mreturn\u001b[0m \u001b[0mself\u001b[0m\u001b[0;34m.\u001b[0m\u001b[0mdelete\u001b[0m\u001b[0;34m(\u001b[0m\u001b[0mindexer\u001b[0m\u001b[0;34m)\u001b[0m\u001b[0;34m\u001b[0m\u001b[0;34m\u001b[0m\u001b[0m\n",
      "\u001b[0;31mKeyError\u001b[0m: '[30775 36924 36925 37256 37257 38849 38850 40350 43286 43287] not found in axis'"
     ]
    }
   ],
   "source": [
    "articles_df = articles_df.drop(index=[30775, 36924, 36925, 37256, 37257, 38849, 38850, 40350, 43286, 43287])"
   ]
  },
  {
   "cell_type": "code",
   "execution_count": 32,
   "id": "convinced-hacker",
   "metadata": {},
   "outputs": [
    {
     "data": {
      "text/html": [
       "<div>\n",
       "<style scoped>\n",
       "    .dataframe tbody tr th:only-of-type {\n",
       "        vertical-align: middle;\n",
       "    }\n",
       "\n",
       "    .dataframe tbody tr th {\n",
       "        vertical-align: top;\n",
       "    }\n",
       "\n",
       "    .dataframe thead th {\n",
       "        text-align: right;\n",
       "    }\n",
       "</style>\n",
       "<table border=\"1\" class=\"dataframe\">\n",
       "  <thead>\n",
       "    <tr style=\"text-align: right;\">\n",
       "      <th></th>\n",
       "      <th>title</th>\n",
       "      <th>text</th>\n",
       "      <th>subject</th>\n",
       "      <th>date</th>\n",
       "      <th>is_fake</th>\n",
       "      <th>correct_date_format</th>\n",
       "    </tr>\n",
       "  </thead>\n",
       "  <tbody>\n",
       "    <tr>\n",
       "      <th>30467</th>\n",
       "      <td>Democrat Senator Warns Mueller Not To Release ...</td>\n",
       "      <td>According to The Hill, Democrat Senator Bob Ca...</td>\n",
       "      <td>politics</td>\n",
       "      <td>19-8</td>\n",
       "      <td>True</td>\n",
       "      <td>False</td>\n",
       "    </tr>\n",
       "    <tr>\n",
       "      <th>30468</th>\n",
       "      <td>MSNBC ANCHOR Flabbergasted at What Texas Teach...</td>\n",
       "      <td>If we protect every other government building ...</td>\n",
       "      <td>politics</td>\n",
       "      <td>19-8</td>\n",
       "      <td>True</td>\n",
       "      <td>False</td>\n",
       "    </tr>\n",
       "    <tr>\n",
       "      <th>30469</th>\n",
       "      <td>WATCH: SNOWFLAKES ASKED Communist Party Platfo...</td>\n",
       "      <td>Ami Horowitz is fantastic! Check out this man ...</td>\n",
       "      <td>politics</td>\n",
       "      <td>19-8</td>\n",
       "      <td>True</td>\n",
       "      <td>False</td>\n",
       "    </tr>\n",
       "    <tr>\n",
       "      <th>30470</th>\n",
       "      <td>JUST IN: BADASS GENERAL JOHN KELLY Shoved Chin...</td>\n",
       "      <td>Just one more reminder of why President Trump ...</td>\n",
       "      <td>politics</td>\n",
       "      <td>18-8</td>\n",
       "      <td>True</td>\n",
       "      <td>False</td>\n",
       "    </tr>\n",
       "    <tr>\n",
       "      <th>30471</th>\n",
       "      <td>DOJ’s JEFF SESSIONS Opens Investigation Into W...</td>\n",
       "      <td>Thank goodnesss Jeff Sessions is moving on fin...</td>\n",
       "      <td>politics</td>\n",
       "      <td>18-8</td>\n",
       "      <td>True</td>\n",
       "      <td>False</td>\n",
       "    </tr>\n",
       "    <tr>\n",
       "      <th>30472</th>\n",
       "      <td>WATCH: ’’Carpetbagger” Mitt Romney Takes Swipe...</td>\n",
       "      <td>The GOP presidential candidate who couldn t se...</td>\n",
       "      <td>politics</td>\n",
       "      <td>18-8</td>\n",
       "      <td>True</td>\n",
       "      <td>False</td>\n",
       "    </tr>\n",
       "    <tr>\n",
       "      <th>30473</th>\n",
       "      <td>GOTCHA! A Stammering John Podesta Stunned by a...</td>\n",
       "      <td>John Podesta is Hillary Clinton s former campa...</td>\n",
       "      <td>politics</td>\n",
       "      <td>18-8</td>\n",
       "      <td>True</td>\n",
       "      <td>False</td>\n",
       "    </tr>\n",
       "    <tr>\n",
       "      <th>30474</th>\n",
       "      <td>HIGH SCHOOL TEACHER Makes “Shooting At Trump” ...</td>\n",
       "      <td>EAG News  A Wyoming high school is under fire ...</td>\n",
       "      <td>politics</td>\n",
       "      <td>18-8</td>\n",
       "      <td>True</td>\n",
       "      <td>False</td>\n",
       "    </tr>\n",
       "    <tr>\n",
       "      <th>30475</th>\n",
       "      <td>IT BEGINS…RINO MEGA-DONOR Threatens Jeb Bush: ...</td>\n",
       "      <td>A longtime Republican Party donor based in Flo...</td>\n",
       "      <td>politics</td>\n",
       "      <td>18-8</td>\n",
       "      <td>True</td>\n",
       "      <td>False</td>\n",
       "    </tr>\n",
       "    <tr>\n",
       "      <th>30476</th>\n",
       "      <td>BUSTED! Maxine Waters’ Ties to Black Nationali...</td>\n",
       "      <td>We reported that Maxine Waters and members of ...</td>\n",
       "      <td>politics</td>\n",
       "      <td>18-8</td>\n",
       "      <td>True</td>\n",
       "      <td>False</td>\n",
       "    </tr>\n",
       "    <tr>\n",
       "      <th>30477</th>\n",
       "      <td>LOCAL REPORTER IN DEEP BLUE STATE Stuns Libera...</td>\n",
       "      <td>We took a very hard look at these numbers, an...</td>\n",
       "      <td>politics</td>\n",
       "      <td>17-8</td>\n",
       "      <td>True</td>\n",
       "      <td>False</td>\n",
       "    </tr>\n",
       "    <tr>\n",
       "      <th>30478</th>\n",
       "      <td>FACEBOOK RELEASES Ads Paid For By Russians…And...</td>\n",
       "      <td>There s been a lot of talk about the ads Russi...</td>\n",
       "      <td>politics</td>\n",
       "      <td>17-8</td>\n",
       "      <td>True</td>\n",
       "      <td>False</td>\n",
       "    </tr>\n",
       "    <tr>\n",
       "      <th>30479</th>\n",
       "      <td>FACEBOOK’S VP Of Ads BLASTS MEDIA: Majority Of...</td>\n",
       "      <td>Facebook s VP of Advertising took to Twitter t...</td>\n",
       "      <td>politics</td>\n",
       "      <td>17-8</td>\n",
       "      <td>True</td>\n",
       "      <td>False</td>\n",
       "    </tr>\n",
       "    <tr>\n",
       "      <th>30480</th>\n",
       "      <td>MEGHAN MCCAIN Cut-Off After Saying the Florida...</td>\n",
       "      <td>It clear that common sense isn t what these he...</td>\n",
       "      <td>politics</td>\n",
       "      <td>17-8</td>\n",
       "      <td>True</td>\n",
       "      <td>False</td>\n",
       "    </tr>\n",
       "    <tr>\n",
       "      <th>30481</th>\n",
       "      <td>BROTHER OF HERO COACH Breaks Down Over Tribute...</td>\n",
       "      <td>The hero football coach who threw himself betw...</td>\n",
       "      <td>politics</td>\n",
       "      <td>17-8</td>\n",
       "      <td>True</td>\n",
       "      <td>False</td>\n",
       "    </tr>\n",
       "    <tr>\n",
       "      <th>30482</th>\n",
       "      <td>“THE TRUMP CURSE IS REAL”…Social Media Respond...</td>\n",
       "      <td>Two months before the Winter Olympics in Seoul...</td>\n",
       "      <td>politics</td>\n",
       "      <td>17-8</td>\n",
       "      <td>True</td>\n",
       "      <td>False</td>\n",
       "    </tr>\n",
       "    <tr>\n",
       "      <th>30483</th>\n",
       "      <td>How The Left, The Anti Defamation League and M...</td>\n",
       "      <td>Immediately after the police identified the su...</td>\n",
       "      <td>politics</td>\n",
       "      <td>17-8</td>\n",
       "      <td>True</td>\n",
       "      <td>False</td>\n",
       "    </tr>\n",
       "    <tr>\n",
       "      <th>30484</th>\n",
       "      <td>LOOK WHO Approved Visas For Russian Operatives...</td>\n",
       "      <td>According to Fox News  A federal grand jury on...</td>\n",
       "      <td>politics</td>\n",
       "      <td>16-8</td>\n",
       "      <td>True</td>\n",
       "      <td>False</td>\n",
       "    </tr>\n",
       "    <tr>\n",
       "      <th>30485</th>\n",
       "      <td>JUST IN: PRESIDENT TRUMP AND FIRST LADY Make S...</td>\n",
       "      <td>President Trump visits Florida hospital, prai...</td>\n",
       "      <td>politics</td>\n",
       "      <td>16-8</td>\n",
       "      <td>True</td>\n",
       "      <td>False</td>\n",
       "    </tr>\n",
       "    <tr>\n",
       "      <th>30486</th>\n",
       "      <td>BREAKING: FL GOV RICK SCOTT Calls for FBI Dire...</td>\n",
       "      <td>While the left points the finger at guns, guns...</td>\n",
       "      <td>politics</td>\n",
       "      <td>16-8</td>\n",
       "      <td>True</td>\n",
       "      <td>False</td>\n",
       "    </tr>\n",
       "    <tr>\n",
       "      <th>30487</th>\n",
       "      <td>HEY, BERNIE SANDERS: 18 SCHOOL SHOOTINGS Have ...</td>\n",
       "      <td>The left has locked onto a stat that 18 school...</td>\n",
       "      <td>politics</td>\n",
       "      <td>16-8</td>\n",
       "      <td>True</td>\n",
       "      <td>False</td>\n",
       "    </tr>\n",
       "    <tr>\n",
       "      <th>30488</th>\n",
       "      <td>TUCKER CARLSON Rips The Left On Gun Control Hy...</td>\n",
       "      <td>Tucker Carlson weighed in on the hysteria over...</td>\n",
       "      <td>politics</td>\n",
       "      <td>16-8</td>\n",
       "      <td>True</td>\n",
       "      <td>False</td>\n",
       "    </tr>\n",
       "    <tr>\n",
       "      <th>30489</th>\n",
       "      <td>WATCH: Mitt Romney Announces Run for Senate…Ba...</td>\n",
       "      <td>Just what we need another Trump-bashing RINO. ...</td>\n",
       "      <td>politics</td>\n",
       "      <td>16-8</td>\n",
       "      <td>True</td>\n",
       "      <td>False</td>\n",
       "    </tr>\n",
       "    <tr>\n",
       "      <th>30490</th>\n",
       "      <td>WATCH SHERIFF’S Honest Response After a School...</td>\n",
       "      <td>When it gets down to it, what this sheriff sai...</td>\n",
       "      <td>politics</td>\n",
       "      <td>16-8</td>\n",
       "      <td>True</td>\n",
       "      <td>False</td>\n",
       "    </tr>\n",
       "    <tr>\n",
       "      <th>30491</th>\n",
       "      <td>Flashback Video: Susan Rice Says Trump’s Claim...</td>\n",
       "      <td>Susan Rice and Obama were as thick as thieves ...</td>\n",
       "      <td>politics</td>\n",
       "      <td>16-8</td>\n",
       "      <td>True</td>\n",
       "      <td>False</td>\n",
       "    </tr>\n",
       "    <tr>\n",
       "      <th>30492</th>\n",
       "      <td>POLITICS FIRST: LEFTIST PARENTS Of Former Comb...</td>\n",
       "      <td>The heartbreaking story of two parents who put...</td>\n",
       "      <td>politics</td>\n",
       "      <td>15-8</td>\n",
       "      <td>True</td>\n",
       "      <td>False</td>\n",
       "    </tr>\n",
       "    <tr>\n",
       "      <th>30493</th>\n",
       "      <td>TWO HIGH SCHOOL JROTC Members Tell INCREDIBLE ...</td>\n",
       "      <td>ABC News  When two Marjory Stoneman Douglas Hi...</td>\n",
       "      <td>politics</td>\n",
       "      <td>15-8</td>\n",
       "      <td>True</td>\n",
       "      <td>False</td>\n",
       "    </tr>\n",
       "    <tr>\n",
       "      <th>30494</th>\n",
       "      <td>MEDIA PROMOTES Fake News That Shooter Connecte...</td>\n",
       "      <td>The mainstream media is guilty of fake news wh...</td>\n",
       "      <td>politics</td>\n",
       "      <td>15-8</td>\n",
       "      <td>True</td>\n",
       "      <td>False</td>\n",
       "    </tr>\n",
       "    <tr>\n",
       "      <th>30495</th>\n",
       "      <td>WHAT’S WRONG WITH PELOSI? Nancy Stutters, Stam...</td>\n",
       "      <td>What s wrong with Pelosi? Nancy Pelosi is supp...</td>\n",
       "      <td>politics</td>\n",
       "      <td>15-8</td>\n",
       "      <td>True</td>\n",
       "      <td>False</td>\n",
       "    </tr>\n",
       "    <tr>\n",
       "      <th>30496</th>\n",
       "      <td>“PROUD TRANSGENDER” Democrat Candidate For Con...</td>\n",
       "      <td>WQOW -A Lacrosse, WI transgender person, who r...</td>\n",
       "      <td>politics</td>\n",
       "      <td>15-8</td>\n",
       "      <td>True</td>\n",
       "      <td>False</td>\n",
       "    </tr>\n",
       "    <tr>\n",
       "      <th>30497</th>\n",
       "      <td>JUST IN: Senate Rejects Immigration Bill…Trump...</td>\n",
       "      <td>How could the Senate be so lame in their effor...</td>\n",
       "      <td>politics</td>\n",
       "      <td>15-8</td>\n",
       "      <td>True</td>\n",
       "      <td>False</td>\n",
       "    </tr>\n",
       "    <tr>\n",
       "      <th>30498</th>\n",
       "      <td>SC STATE REP Who is a Former Cop Proposes Smar...</td>\n",
       "      <td>WHO BETTER THAN A FORMER POLICE OFFICER TO UND...</td>\n",
       "      <td>politics</td>\n",
       "      <td>15-8</td>\n",
       "      <td>True</td>\n",
       "      <td>False</td>\n",
       "    </tr>\n",
       "    <tr>\n",
       "      <th>30499</th>\n",
       "      <td>HUH? RAPPER JAY-Z Compares Trayvon Martin to M...</td>\n",
       "      <td>Rapper Jay-Z attended the Peace Walk &amp; Peace T...</td>\n",
       "      <td>politics</td>\n",
       "      <td>15-8</td>\n",
       "      <td>True</td>\n",
       "      <td>False</td>\n",
       "    </tr>\n",
       "    <tr>\n",
       "      <th>30500</th>\n",
       "      <td>The DIRTY TRUTH About DACA Recipients…Where Th...</td>\n",
       "      <td>Yesterday, a second U.S. judge on Tuesday bloc...</td>\n",
       "      <td>politics</td>\n",
       "      <td>15-8</td>\n",
       "      <td>True</td>\n",
       "      <td>False</td>\n",
       "    </tr>\n",
       "    <tr>\n",
       "      <th>30501</th>\n",
       "      <td>JUST IN: CROOKED DOJ OFFICIAL Didn’t Reveal Th...</td>\n",
       "      <td>We ve been covering the curious case of DOJ of...</td>\n",
       "      <td>politics</td>\n",
       "      <td>14-8</td>\n",
       "      <td>True</td>\n",
       "      <td>False</td>\n",
       "    </tr>\n",
       "  </tbody>\n",
       "</table>\n",
       "</div>"
      ],
      "text/plain": [
       "                                                   title  \\\n",
       "30467  Democrat Senator Warns Mueller Not To Release ...   \n",
       "30468  MSNBC ANCHOR Flabbergasted at What Texas Teach...   \n",
       "30469  WATCH: SNOWFLAKES ASKED Communist Party Platfo...   \n",
       "30470  JUST IN: BADASS GENERAL JOHN KELLY Shoved Chin...   \n",
       "30471  DOJ’s JEFF SESSIONS Opens Investigation Into W...   \n",
       "30472  WATCH: ’’Carpetbagger” Mitt Romney Takes Swipe...   \n",
       "30473  GOTCHA! A Stammering John Podesta Stunned by a...   \n",
       "30474  HIGH SCHOOL TEACHER Makes “Shooting At Trump” ...   \n",
       "30475  IT BEGINS…RINO MEGA-DONOR Threatens Jeb Bush: ...   \n",
       "30476  BUSTED! Maxine Waters’ Ties to Black Nationali...   \n",
       "30477  LOCAL REPORTER IN DEEP BLUE STATE Stuns Libera...   \n",
       "30478  FACEBOOK RELEASES Ads Paid For By Russians…And...   \n",
       "30479  FACEBOOK’S VP Of Ads BLASTS MEDIA: Majority Of...   \n",
       "30480  MEGHAN MCCAIN Cut-Off After Saying the Florida...   \n",
       "30481  BROTHER OF HERO COACH Breaks Down Over Tribute...   \n",
       "30482  “THE TRUMP CURSE IS REAL”…Social Media Respond...   \n",
       "30483  How The Left, The Anti Defamation League and M...   \n",
       "30484  LOOK WHO Approved Visas For Russian Operatives...   \n",
       "30485  JUST IN: PRESIDENT TRUMP AND FIRST LADY Make S...   \n",
       "30486  BREAKING: FL GOV RICK SCOTT Calls for FBI Dire...   \n",
       "30487  HEY, BERNIE SANDERS: 18 SCHOOL SHOOTINGS Have ...   \n",
       "30488  TUCKER CARLSON Rips The Left On Gun Control Hy...   \n",
       "30489  WATCH: Mitt Romney Announces Run for Senate…Ba...   \n",
       "30490  WATCH SHERIFF’S Honest Response After a School...   \n",
       "30491  Flashback Video: Susan Rice Says Trump’s Claim...   \n",
       "30492  POLITICS FIRST: LEFTIST PARENTS Of Former Comb...   \n",
       "30493  TWO HIGH SCHOOL JROTC Members Tell INCREDIBLE ...   \n",
       "30494  MEDIA PROMOTES Fake News That Shooter Connecte...   \n",
       "30495  WHAT’S WRONG WITH PELOSI? Nancy Stutters, Stam...   \n",
       "30496  “PROUD TRANSGENDER” Democrat Candidate For Con...   \n",
       "30497  JUST IN: Senate Rejects Immigration Bill…Trump...   \n",
       "30498  SC STATE REP Who is a Former Cop Proposes Smar...   \n",
       "30499  HUH? RAPPER JAY-Z Compares Trayvon Martin to M...   \n",
       "30500  The DIRTY TRUTH About DACA Recipients…Where Th...   \n",
       "30501  JUST IN: CROOKED DOJ OFFICIAL Didn’t Reveal Th...   \n",
       "\n",
       "                                                    text   subject  date  \\\n",
       "30467  According to The Hill, Democrat Senator Bob Ca...  politics  19-8   \n",
       "30468  If we protect every other government building ...  politics  19-8   \n",
       "30469  Ami Horowitz is fantastic! Check out this man ...  politics  19-8   \n",
       "30470  Just one more reminder of why President Trump ...  politics  18-8   \n",
       "30471  Thank goodnesss Jeff Sessions is moving on fin...  politics  18-8   \n",
       "30472  The GOP presidential candidate who couldn t se...  politics  18-8   \n",
       "30473  John Podesta is Hillary Clinton s former campa...  politics  18-8   \n",
       "30474  EAG News  A Wyoming high school is under fire ...  politics  18-8   \n",
       "30475  A longtime Republican Party donor based in Flo...  politics  18-8   \n",
       "30476  We reported that Maxine Waters and members of ...  politics  18-8   \n",
       "30477   We took a very hard look at these numbers, an...  politics  17-8   \n",
       "30478  There s been a lot of talk about the ads Russi...  politics  17-8   \n",
       "30479  Facebook s VP of Advertising took to Twitter t...  politics  17-8   \n",
       "30480  It clear that common sense isn t what these he...  politics  17-8   \n",
       "30481  The hero football coach who threw himself betw...  politics  17-8   \n",
       "30482  Two months before the Winter Olympics in Seoul...  politics  17-8   \n",
       "30483  Immediately after the police identified the su...  politics  17-8   \n",
       "30484  According to Fox News  A federal grand jury on...  politics  16-8   \n",
       "30485   President Trump visits Florida hospital, prai...  politics  16-8   \n",
       "30486  While the left points the finger at guns, guns...  politics  16-8   \n",
       "30487  The left has locked onto a stat that 18 school...  politics  16-8   \n",
       "30488  Tucker Carlson weighed in on the hysteria over...  politics  16-8   \n",
       "30489  Just what we need another Trump-bashing RINO. ...  politics  16-8   \n",
       "30490  When it gets down to it, what this sheriff sai...  politics  16-8   \n",
       "30491  Susan Rice and Obama were as thick as thieves ...  politics  16-8   \n",
       "30492  The heartbreaking story of two parents who put...  politics  15-8   \n",
       "30493  ABC News  When two Marjory Stoneman Douglas Hi...  politics  15-8   \n",
       "30494  The mainstream media is guilty of fake news wh...  politics  15-8   \n",
       "30495  What s wrong with Pelosi? Nancy Pelosi is supp...  politics  15-8   \n",
       "30496  WQOW -A Lacrosse, WI transgender person, who r...  politics  15-8   \n",
       "30497  How could the Senate be so lame in their effor...  politics  15-8   \n",
       "30498  WHO BETTER THAN A FORMER POLICE OFFICER TO UND...  politics  15-8   \n",
       "30499  Rapper Jay-Z attended the Peace Walk & Peace T...  politics  15-8   \n",
       "30500  Yesterday, a second U.S. judge on Tuesday bloc...  politics  15-8   \n",
       "30501  We ve been covering the curious case of DOJ of...  politics  14-8   \n",
       "\n",
       "       is_fake  correct_date_format  \n",
       "30467     True                False  \n",
       "30468     True                False  \n",
       "30469     True                False  \n",
       "30470     True                False  \n",
       "30471     True                False  \n",
       "30472     True                False  \n",
       "30473     True                False  \n",
       "30474     True                False  \n",
       "30475     True                False  \n",
       "30476     True                False  \n",
       "30477     True                False  \n",
       "30478     True                False  \n",
       "30479     True                False  \n",
       "30480     True                False  \n",
       "30481     True                False  \n",
       "30482     True                False  \n",
       "30483     True                False  \n",
       "30484     True                False  \n",
       "30485     True                False  \n",
       "30486     True                False  \n",
       "30487     True                False  \n",
       "30488     True                False  \n",
       "30489     True                False  \n",
       "30490     True                False  \n",
       "30491     True                False  \n",
       "30492     True                False  \n",
       "30493     True                False  \n",
       "30494     True                False  \n",
       "30495     True                False  \n",
       "30496     True                False  \n",
       "30497     True                False  \n",
       "30498     True                False  \n",
       "30499     True                False  \n",
       "30500     True                False  \n",
       "30501     True                False  "
      ]
     },
     "execution_count": 32,
     "metadata": {},
     "output_type": "execute_result"
    }
   ],
   "source": [
    "articles_df[articles_df.correct_date_format == False]"
   ]
  },
  {
   "cell_type": "code",
   "execution_count": 62,
   "id": "shared-mortgage",
   "metadata": {},
   "outputs": [
    {
     "ename": "AttributeError",
     "evalue": "'str' object has no attribute 'date'",
     "output_type": "error",
     "traceback": [
      "\u001b[0;31m---------------------------------------------------------------------------\u001b[0m",
      "\u001b[0;31mAttributeError\u001b[0m                            Traceback (most recent call last)",
      "\u001b[0;32m<ipython-input-62-16a6f3fc2338>\u001b[0m in \u001b[0;36m<module>\u001b[0;34m\u001b[0m\n\u001b[0;32m----> 1\u001b[0;31m \u001b[0mpd\u001b[0m\u001b[0;34m.\u001b[0m\u001b[0mto_datetime\u001b[0m\u001b[0;34m(\u001b[0m\u001b[0marticles_df\u001b[0m\u001b[0;34m.\u001b[0m\u001b[0mdate\u001b[0m\u001b[0;34m,\u001b[0m \u001b[0mformat\u001b[0m\u001b[0;34m=\u001b[0m\u001b[0;34m\"%b %d, %Y\"\u001b[0m\u001b[0;34m)\u001b[0m\u001b[0;34m\u001b[0m\u001b[0;34m\u001b[0m\u001b[0m\n\u001b[0m",
      "\u001b[0;31mAttributeError\u001b[0m: 'str' object has no attribute 'date'"
     ]
    }
   ],
   "source": [
    "pd.to_datetime(articles_df.date, format=\"%b %d, %Y\")"
   ]
  },
  {
   "cell_type": "code",
   "execution_count": 21,
   "id": "swiss-fancy",
   "metadata": {
    "cell_id": "00012-680772f0-407a-49f8-ac8f-b48c1b751b49",
    "deepnote_cell_type": "code",
    "deepnote_to_be_reexecuted": false,
    "execution_millis": 2838,
    "execution_start": 1621522753286,
    "source_hash": "b753811a",
    "tags": []
   },
   "outputs": [],
   "source": [
    "articles_df.to_csv(\"news_articles.csv\")"
   ]
  },
  {
   "cell_type": "code",
   "execution_count": 80,
   "id": "human-treatment",
   "metadata": {
    "cell_id": "00016-3dfaee7c-b5f3-4021-b757-393cb6faf4dd",
    "deepnote_cell_type": "code",
    "deepnote_to_be_reexecuted": false,
    "execution_millis": 2396,
    "execution_start": 1621526316077,
    "source_hash": "df30e329",
    "tags": []
   },
   "outputs": [],
   "source": [
    "articles_df.text = articles_df.text.apply(utils.nlp_basic_clean)"
   ]
  },
  {
   "cell_type": "code",
   "execution_count": 81,
   "id": "referenced-folks",
   "metadata": {
    "cell_id": "00017-76e40e84-f32b-4ecc-b4ea-93b2dda8ae70",
    "deepnote_cell_type": "code",
    "deepnote_to_be_reexecuted": false,
    "execution_millis": 161,
    "execution_start": 1621526319380,
    "source_hash": "f5ee55ca",
    "tags": []
   },
   "outputs": [],
   "source": [
    "articles_df.title = articles_df.title.apply(utils.nlp_basic_clean)"
   ]
  },
  {
   "cell_type": "code",
   "execution_count": 82,
   "id": "alive-track",
   "metadata": {
    "cell_id": "00018-8739bce8-d7a5-4f87-8cf5-17f20c5f2bf0",
    "deepnote_cell_type": "code",
    "deepnote_to_be_reexecuted": false,
    "execution_millis": 20867,
    "execution_start": 1621526320853,
    "source_hash": "575fd626",
    "tags": []
   },
   "outputs": [],
   "source": [
    "articles_df.text = articles_df.text.apply(utils.nlp_tokenize)"
   ]
  },
  {
   "cell_type": "code",
   "execution_count": 83,
   "id": "authentic-antenna",
   "metadata": {
    "cell_id": "00019-10889357-2e38-4ee6-96f2-91962d6458c8",
    "deepnote_cell_type": "code",
    "deepnote_to_be_reexecuted": false,
    "execution_millis": 1753,
    "execution_start": 1621526341725,
    "source_hash": "49667384",
    "tags": []
   },
   "outputs": [],
   "source": [
    "articles_df.title = articles_df.title.apply(utils.nlp_tokenize)"
   ]
  },
  {
   "cell_type": "code",
   "execution_count": 84,
   "id": "iraqi-desire",
   "metadata": {
    "cell_id": "00020-44888653-d3e2-4cd7-a45b-3dc6010f3a8c",
    "deepnote_cell_type": "code",
    "deepnote_to_be_reexecuted": false,
    "execution_millis": 42716,
    "execution_start": 1621526343483,
    "source_hash": "ea58c6d5",
    "tags": []
   },
   "outputs": [],
   "source": [
    "articles_df.text = articles_df.text.apply(utils.nlp_remove_stopwords)"
   ]
  },
  {
   "cell_type": "code",
   "execution_count": 85,
   "id": "hidden-external",
   "metadata": {
    "cell_id": "00021-0d57e289-df92-4619-89d1-1cba60161f8a",
    "deepnote_cell_type": "code",
    "deepnote_to_be_reexecuted": false,
    "execution_millis": 5813,
    "execution_start": 1621526386199,
    "source_hash": "c2c7f9d4",
    "tags": []
   },
   "outputs": [],
   "source": [
    "articles_df.title = articles_df.title.apply(utils.nlp_remove_stopwords)"
   ]
  },
  {
   "cell_type": "code",
   "execution_count": 86,
   "id": "atomic-provider",
   "metadata": {
    "cell_id": "00023-157e8aed-12d6-49b1-bc7d-db95e3436c60",
    "deepnote_cell_type": "code",
    "deepnote_to_be_reexecuted": false,
    "execution_millis": 38673,
    "execution_start": 1621526392073,
    "source_hash": "e877d7de",
    "tags": []
   },
   "outputs": [],
   "source": [
    "articles_df.text = articles_df.text.apply(utils.nlp_lemmatize)"
   ]
  },
  {
   "cell_type": "code",
   "execution_count": 87,
   "id": "thrown-binding",
   "metadata": {
    "cell_id": "00024-10906d8b-252c-4071-8aa9-4c12971419f4",
    "deepnote_cell_type": "code",
    "deepnote_to_be_reexecuted": false,
    "execution_millis": 1667,
    "execution_start": 1621526430775,
    "source_hash": "5b167350",
    "tags": []
   },
   "outputs": [],
   "source": [
    "articles_df.title = articles_df.title.apply(utils.nlp_lemmatize)"
   ]
  },
  {
   "cell_type": "code",
   "execution_count": 88,
   "id": "narrative-capability",
   "metadata": {
    "cell_id": "00026-c0d42955-96cc-4132-9f30-1278229355a0",
    "deepnote_cell_type": "code",
    "deepnote_to_be_reexecuted": false,
    "execution_millis": 1852,
    "execution_start": 1621526444986,
    "source_hash": "d326a8da",
    "tags": []
   },
   "outputs": [],
   "source": [
    "articles_df.to_csv(\"all_articles.csv\")"
   ]
  },
  {
   "cell_type": "code",
   "execution_count": 92,
   "id": "hidden-operations",
   "metadata": {
    "cell_id": "00029-c5a52cd3-5873-48bd-829d-dacd202ebc99",
    "deepnote_cell_type": "code",
    "deepnote_to_be_reexecuted": false,
    "execution_millis": 55,
    "execution_start": 1621526605326,
    "source_hash": "ba45f8f9",
    "tags": []
   },
   "outputs": [
    {
     "name": "stdout",
     "output_type": "stream",
     "text": [
      "NaN values\n",
      "Empty DataFrame\n",
      "Columns: [rows, columns]\n",
      "Index: []\n",
      "--------------------------------\n",
      "Empty values\n",
      "      rows  columns\n",
      "0     8970        1\n",
      "1    32340        1\n",
      "2    32458        1\n",
      "3    32607        1\n",
      "4    32642        1\n",
      "..     ...      ...\n",
      "627  43233        1\n",
      "628  43243        1\n",
      "629  43244        1\n",
      "630  43274        1\n",
      "631  43290        1\n",
      "\n",
      "[632 rows x 2 columns]\n",
      "--------------------------------\n"
     ]
    }
   ],
   "source": [
    "positions = utils.nan_null_empty_check(articles_df)\n",
    "drop_rows = list(positions['empty_positions'][0])"
   ]
  },
  {
   "cell_type": "code",
   "execution_count": 93,
   "id": "naughty-nation",
   "metadata": {
    "cell_id": "00030-39413cb8-37b8-46ce-abe2-9fa571388b55",
    "deepnote_cell_type": "code",
    "deepnote_to_be_reexecuted": false,
    "execution_millis": 7,
    "execution_start": 1621526610449,
    "source_hash": "64036bd",
    "tags": []
   },
   "outputs": [],
   "source": [
    "articles_with_text_df = articles_df.drop(index=drop_rows)"
   ]
  },
  {
   "cell_type": "code",
   "execution_count": 94,
   "id": "electronic-ordinance",
   "metadata": {
    "cell_id": "00031-cba2fc28-cf77-4d16-95a6-284053c03a22",
    "deepnote_cell_type": "code",
    "deepnote_to_be_reexecuted": false,
    "execution_millis": 97,
    "execution_start": 1621526613866,
    "source_hash": "a4a74210",
    "tags": []
   },
   "outputs": [
    {
     "name": "stdout",
     "output_type": "stream",
     "text": [
      "NaN values\n",
      "Empty DataFrame\n",
      "Columns: [rows, columns]\n",
      "Index: []\n",
      "--------------------------------\n",
      "Empty values\n",
      "Empty DataFrame\n",
      "Columns: [rows, columns]\n",
      "Index: []\n",
      "--------------------------------\n"
     ]
    },
    {
     "data": {
      "text/plain": [
       "{'nan_positions': (array([], dtype=int64), array([], dtype=int64)),\n",
       " 'empty_positions': (array([], dtype=int64), array([], dtype=int64))}"
      ]
     },
     "execution_count": 94,
     "metadata": {},
     "output_type": "execute_result"
    }
   ],
   "source": [
    "utils.nan_null_empty_check(articles_with_text_df)"
   ]
  },
  {
   "cell_type": "code",
   "execution_count": 95,
   "id": "unsigned-vehicle",
   "metadata": {
    "cell_id": "00034-c7a7ef25-8a8e-4983-8435-e1ffa3a94a97",
    "deepnote_cell_type": "code",
    "deepnote_to_be_reexecuted": false,
    "execution_millis": 1815,
    "execution_start": 1621526645067,
    "source_hash": "329590ca",
    "tags": []
   },
   "outputs": [],
   "source": [
    "articles_with_text_df.to_csv(\"articles_with_text.csv\")"
   ]
  },
  {
   "cell_type": "code",
   "execution_count": null,
   "id": "automatic-occasion",
   "metadata": {
    "cell_id": "00035-23fff588-e25f-4567-9ebc-8c84bc7f3a38",
    "deepnote_cell_type": "code",
    "tags": []
   },
   "outputs": [],
   "source": []
  },
  {
   "cell_type": "markdown",
   "id": "retired-piece",
   "metadata": {
    "created_in_deepnote_cell": true,
    "deepnote_cell_type": "markdown",
    "tags": []
   },
   "source": [
    "<a style='text-decoration:none;line-height:16px;display:flex;color:#5B5B62;padding:10px;justify-content:end;' href='https://deepnote.com?utm_source=created-in-deepnote-cell&projectId=2e382e51-55a5-40b6-ab11-4433152b5cab' target=\"_blank\">\n",
    "<img alt='Created in deepnote.com' style='display:inline;max-height:16px;margin:0px;margin-right:7.5px;' src='data:image/svg+xml;base64,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' > </img>\n",
    "Created in <span style='font-weight:600;margin-left:4px;'>Deepnote</span></a>"
   ]
  }
 ],
 "metadata": {
  "deepnote": {},
  "deepnote_execution_queue": [],
  "deepnote_notebook_id": "b697d2a8-f448-40c8-aec2-38eff54d516e",
  "kernelspec": {
   "display_name": "Python 3",
   "language": "python",
   "name": "python3"
  },
  "language_info": {
   "codemirror_mode": {
    "name": "ipython",
    "version": 3
   },
   "file_extension": ".py",
   "mimetype": "text/x-python",
   "name": "python",
   "nbconvert_exporter": "python",
   "pygments_lexer": "ipython3",
   "version": "3.8.5"
  }
 },
 "nbformat": 4,
 "nbformat_minor": 5
}
