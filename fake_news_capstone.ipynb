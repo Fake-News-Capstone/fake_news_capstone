{
 "cells": [
  {
   "cell_type": "code",
   "execution_count": 1,
   "id": "brilliant-particular",
   "metadata": {
    "cell_id": "00000-583fceab-2062-436e-8e1d-c8b9fbe843fe",
    "deepnote_cell_type": "code",
    "deepnote_to_be_reexecuted": false,
    "execution_millis": 6,
    "execution_start": 1621522081250,
    "source_hash": "60c2cabd"
   },
   "outputs": [],
   "source": [
    "import env\n",
    "import pandas as pd\n",
    "import numpy as np\n",
    "import utilities as utils\n",
    "\n",
    "from wrangle import wrangle_articles"
   ]
  },
  {
   "cell_type": "code",
   "execution_count": 2,
   "id": "legendary-board",
   "metadata": {
    "cell_id": "00035-23fff588-e25f-4567-9ebc-8c84bc7f3a38",
    "deepnote_cell_type": "code",
    "tags": []
   },
   "outputs": [
    {
     "name": "stdout",
     "output_type": "stream",
     "text": [
      "NaN values\n",
      "Empty DataFrame\n",
      "Columns: [rows, columns]\n",
      "Index: []\n",
      "--------------------------------\n",
      "Empty values\n",
      "      rows  columns\n",
      "0      120        1\n",
      "1      122        1\n",
      "2      152        1\n",
      "3      165        1\n",
      "4      172        1\n",
      "..     ...      ...\n",
      "627  24267        1\n",
      "628  25130        1\n",
      "629  25152        1\n",
      "630  25701        1\n",
      "631  25746        1\n",
      "\n",
      "[632 rows x 2 columns]\n",
      "--------------------------------\n"
     ]
    }
   ],
   "source": [
    "all_articles_df, only_articles_with_text_df = wrangle_articles()"
   ]
  },
  {
   "cell_type": "code",
   "execution_count": 3,
   "id": "complete-desire",
   "metadata": {},
   "outputs": [],
   "source": [
    "all_articles_df.to_csv(\"all_articles.csv\")\n",
    "only_articles_with_text_df.to_csv(\"only_articles_with_text.csv\")"
   ]
  },
  {
   "cell_type": "code",
   "execution_count": null,
   "id": "instrumental-uganda",
   "metadata": {},
   "outputs": [],
   "source": []
  }
 ],
 "metadata": {
  "deepnote": {},
  "deepnote_execution_queue": [],
  "deepnote_notebook_id": "b697d2a8-f448-40c8-aec2-38eff54d516e",
  "kernelspec": {
   "display_name": "Python 3",
   "language": "python",
   "name": "python3"
  },
  "language_info": {
   "codemirror_mode": {
    "name": "ipython",
    "version": 3
   },
   "file_extension": ".py",
   "mimetype": "text/x-python",
   "name": "python",
   "nbconvert_exporter": "python",
   "pygments_lexer": "ipython3",
   "version": "3.8.5"
  }
 },
 "nbformat": 4,
 "nbformat_minor": 5
}
