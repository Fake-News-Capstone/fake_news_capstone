{
 "cells": [
  {
   "cell_type": "code",
   "execution_count": 2,
   "id": "alert-eclipse",
   "metadata": {},
   "outputs": [],
   "source": [
    "import env\n",
    "import utilities as utils"
   ]
  },
  {
   "cell_type": "code",
   "execution_count": null,
   "id": "impaired-correction",
   "metadata": {},
   "outputs": [],
   "source": [
    "# Testing deepnote collaboration"
   ]
  }
 ],
 "metadata": {
  "kernelspec": {
   "display_name": "Python 3",
   "language": "python",
   "name": "python3"
  },
  "language_info": {
   "codemirror_mode": {
    "name": "ipython",
    "version": 3
   },
   "file_extension": ".py",
   "mimetype": "text/x-python",
   "name": "python",
   "nbconvert_exporter": "python",
   "pygments_lexer": "ipython3",
   "version": "3.8.5"
  }
 },
 "nbformat": 4,
 "nbformat_minor": 5
}
